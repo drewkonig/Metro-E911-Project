{
 "cells": [
  {
   "cell_type": "markdown",
   "metadata": {},
   "source": [
    "### Imports"
   ]
  },
  {
   "cell_type": "code",
   "execution_count": 25,
   "metadata": {},
   "outputs": [
    {
     "ename": "ModuleNotFoundError",
     "evalue": "No module named 'shapely'",
     "output_type": "error",
     "traceback": [
      "\u001b[0;31m---------------------------------------------------------------------------\u001b[0m",
      "\u001b[0;31mModuleNotFoundError\u001b[0m                       Traceback (most recent call last)",
      "\u001b[0;32m<ipython-input-25-f70718c0503d>\u001b[0m in \u001b[0;36m<module>\u001b[0;34m\u001b[0m\n\u001b[1;32m      2\u001b[0m \u001b[0;32mimport\u001b[0m \u001b[0mnumpy\u001b[0m \u001b[0;32mas\u001b[0m \u001b[0mnp\u001b[0m\u001b[0;34m\u001b[0m\u001b[0;34m\u001b[0m\u001b[0m\n\u001b[1;32m      3\u001b[0m \u001b[0;32mimport\u001b[0m \u001b[0mmatplotlib\u001b[0m\u001b[0;34m.\u001b[0m\u001b[0mpyplot\u001b[0m \u001b[0;32mas\u001b[0m \u001b[0mplt\u001b[0m\u001b[0;34m\u001b[0m\u001b[0;34m\u001b[0m\u001b[0m\n\u001b[0;32m----> 4\u001b[0;31m \u001b[0;32mfrom\u001b[0m \u001b[0mshapely\u001b[0m\u001b[0;34m.\u001b[0m\u001b[0mgeometry\u001b[0m \u001b[0;32mimport\u001b[0m \u001b[0mPoint\u001b[0m\u001b[0;34m\u001b[0m\u001b[0;34m\u001b[0m\u001b[0m\n\u001b[0m\u001b[1;32m      5\u001b[0m \u001b[0;32mimport\u001b[0m \u001b[0mpandas\u001b[0m \u001b[0;32mas\u001b[0m \u001b[0mpd\u001b[0m\u001b[0;34m\u001b[0m\u001b[0;34m\u001b[0m\u001b[0m\n\u001b[1;32m      6\u001b[0m \u001b[0;32mimport\u001b[0m \u001b[0mgeopandas\u001b[0m \u001b[0;32mas\u001b[0m \u001b[0mgpd\u001b[0m\u001b[0;34m\u001b[0m\u001b[0;34m\u001b[0m\u001b[0m\n",
      "\u001b[0;31mModuleNotFoundError\u001b[0m: No module named 'shapely'"
     ]
    }
   ],
   "source": [
    "import pandas as pd\n",
    "import numpy as np\n",
    "import matplotlib.pyplot as plt\n",
    "from shapely.geometry import Point\n",
    "import pandas as pd\n",
    "import geopandas as gpd\n",
    "import matplotlib.pyplot as plt\n",
    "import folium\n",
    "from folium.plugins import MarkerCluster\n",
    "from folium.plugins import FastMarkerCluster\n",
    "\n",
    "%matplotlib inline"
   ]
  },
  {
   "cell_type": "markdown",
   "metadata": {},
   "source": [
    "### csvs and Dataframes"
   ]
  },
  {
   "cell_type": "code",
   "execution_count": 14,
   "metadata": {},
   "outputs": [],
   "source": [
    "derecho_911 = pd.read_csv('../Dataread/data/911_Phone Calls_Derecho_050320 050420.csv')\n",
    "tornado_911 = pd.read_csv('../Dataread/data/911_Phone_Calls_Tornado_030320.csv')\n",
    "disp_derecho = pd.read_csv('../Dataread/data/Computer Aided Dispatch Data_Derecho Incidents 050320-050420.csv', skiprows = 2)\n",
    "disp_tornado = pd.read_csv('../Dataread/data/Computer Aided Dispatch Data_Tornado Incidents 030320.csv', skiprows = 3)"
   ]
  },
  {
   "cell_type": "markdown",
   "metadata": {},
   "source": [
    "### Data overview"
   ]
  },
  {
   "cell_type": "code",
   "execution_count": 18,
   "metadata": {},
   "outputs": [
    {
     "data": {
      "text/html": [
       "<div>\n",
       "<style scoped>\n",
       "    .dataframe tbody tr th:only-of-type {\n",
       "        vertical-align: middle;\n",
       "    }\n",
       "\n",
       "    .dataframe tbody tr th {\n",
       "        vertical-align: top;\n",
       "    }\n",
       "\n",
       "    .dataframe thead th {\n",
       "        text-align: right;\n",
       "    }\n",
       "</style>\n",
       "<table border=\"1\" class=\"dataframe\">\n",
       "  <thead>\n",
       "    <tr style=\"text-align: right;\">\n",
       "      <th></th>\n",
       "      <th>Seizure DateTime</th>\n",
       "      <th>CallTypeId</th>\n",
       "      <th>ALI Latitude</th>\n",
       "      <th>ALI Longitude</th>\n",
       "      <th>Cell Tower Address</th>\n",
       "    </tr>\n",
       "  </thead>\n",
       "  <tbody>\n",
       "    <tr>\n",
       "      <th>0</th>\n",
       "      <td>5/3/2020 16:30</td>\n",
       "      <td>911 Calls</td>\n",
       "      <td>36.247802</td>\n",
       "      <td>-86.716847</td>\n",
       "      <td>WIRELESS CALLER</td>\n",
       "    </tr>\n",
       "    <tr>\n",
       "      <th>1</th>\n",
       "      <td>5/3/2020 16:30</td>\n",
       "      <td>911 Calls</td>\n",
       "      <td>36.143108</td>\n",
       "      <td>-86.800621</td>\n",
       "      <td>1161 21ST AV S - SE</td>\n",
       "    </tr>\n",
       "    <tr>\n",
       "      <th>2</th>\n",
       "      <td>5/3/2020 16:30</td>\n",
       "      <td>911 Calls</td>\n",
       "      <td>36.100516</td>\n",
       "      <td>-87.056329</td>\n",
       "      <td>8013 C MCCRORY LN - N</td>\n",
       "    </tr>\n",
       "    <tr>\n",
       "      <th>3</th>\n",
       "      <td>5/3/2020 16:30</td>\n",
       "      <td>911 Calls</td>\n",
       "      <td>36.130021</td>\n",
       "      <td>-86.927819</td>\n",
       "      <td>5758 RIVER RD - SW</td>\n",
       "    </tr>\n",
       "    <tr>\n",
       "      <th>4</th>\n",
       "      <td>5/3/2020 16:31</td>\n",
       "      <td>911 Calls</td>\n",
       "      <td>36.142380</td>\n",
       "      <td>-86.881882</td>\n",
       "      <td>3744B ANNEX AVE - SE</td>\n",
       "    </tr>\n",
       "  </tbody>\n",
       "</table>\n",
       "</div>"
      ],
      "text/plain": [
       "  Seizure DateTime CallTypeId  ALI Latitude  ALI Longitude  \\\n",
       "0   5/3/2020 16:30  911 Calls     36.247802     -86.716847   \n",
       "1   5/3/2020 16:30  911 Calls     36.143108     -86.800621   \n",
       "2   5/3/2020 16:30  911 Calls     36.100516     -87.056329   \n",
       "3   5/3/2020 16:30  911 Calls     36.130021     -86.927819   \n",
       "4   5/3/2020 16:31  911 Calls     36.142380     -86.881882   \n",
       "\n",
       "      Cell Tower Address  \n",
       "0        WIRELESS CALLER  \n",
       "1    1161 21ST AV S - SE  \n",
       "2  8013 C MCCRORY LN - N  \n",
       "3     5758 RIVER RD - SW  \n",
       "4   3744B ANNEX AVE - SE  "
      ]
     },
     "execution_count": 18,
     "metadata": {},
     "output_type": "execute_result"
    }
   ],
   "source": [
    "derecho_911.head()"
   ]
  },
  {
   "cell_type": "code",
   "execution_count": 19,
   "metadata": {},
   "outputs": [
    {
     "data": {
      "text/html": [
       "<div>\n",
       "<style scoped>\n",
       "    .dataframe tbody tr th:only-of-type {\n",
       "        vertical-align: middle;\n",
       "    }\n",
       "\n",
       "    .dataframe tbody tr th {\n",
       "        vertical-align: top;\n",
       "    }\n",
       "\n",
       "    .dataframe thead th {\n",
       "        text-align: right;\n",
       "    }\n",
       "</style>\n",
       "<table border=\"1\" class=\"dataframe\">\n",
       "  <thead>\n",
       "    <tr style=\"text-align: right;\">\n",
       "      <th></th>\n",
       "      <th>Seizure DateTime</th>\n",
       "      <th>CallTypeId</th>\n",
       "      <th>ALI Latitude</th>\n",
       "      <th>ALI Longitude</th>\n",
       "      <th>Cell Tower Address</th>\n",
       "    </tr>\n",
       "  </thead>\n",
       "  <tbody>\n",
       "    <tr>\n",
       "      <th>0</th>\n",
       "      <td>3/3/2020 0:34</td>\n",
       "      <td>911 Calls</td>\n",
       "      <td>36.072708</td>\n",
       "      <td>-86.665779</td>\n",
       "      <td>620 Richards RD - N Sector</td>\n",
       "    </tr>\n",
       "    <tr>\n",
       "      <th>1</th>\n",
       "      <td>3/3/2020 0:36</td>\n",
       "      <td>911 Calls</td>\n",
       "      <td>36.159634</td>\n",
       "      <td>-86.841904</td>\n",
       "      <td>4507D KENTUCKY AV - SE</td>\n",
       "    </tr>\n",
       "    <tr>\n",
       "      <th>2</th>\n",
       "      <td>3/3/2020 0:36</td>\n",
       "      <td>911 Calls</td>\n",
       "      <td>36.264153</td>\n",
       "      <td>-86.708862</td>\n",
       "      <td>329 THELMA ST - S Sector</td>\n",
       "    </tr>\n",
       "    <tr>\n",
       "      <th>3</th>\n",
       "      <td>3/3/2020 0:36</td>\n",
       "      <td>911 Calls</td>\n",
       "      <td>NaN</td>\n",
       "      <td>NaN</td>\n",
       "      <td>526 FOUNDRY DR</td>\n",
       "    </tr>\n",
       "    <tr>\n",
       "      <th>4</th>\n",
       "      <td>3/3/2020 0:36</td>\n",
       "      <td>911 Calls</td>\n",
       "      <td>36.233467</td>\n",
       "      <td>-86.721077</td>\n",
       "      <td>5007B RUSKIN AVE - N</td>\n",
       "    </tr>\n",
       "  </tbody>\n",
       "</table>\n",
       "</div>"
      ],
      "text/plain": [
       "  Seizure DateTime CallTypeId  ALI Latitude  ALI Longitude  \\\n",
       "0    3/3/2020 0:34  911 Calls     36.072708     -86.665779   \n",
       "1    3/3/2020 0:36  911 Calls     36.159634     -86.841904   \n",
       "2    3/3/2020 0:36  911 Calls     36.264153     -86.708862   \n",
       "3    3/3/2020 0:36  911 Calls           NaN            NaN   \n",
       "4    3/3/2020 0:36  911 Calls     36.233467     -86.721077   \n",
       "\n",
       "           Cell Tower Address  \n",
       "0  620 Richards RD - N Sector  \n",
       "1      4507D KENTUCKY AV - SE  \n",
       "2    329 THELMA ST - S Sector  \n",
       "3              526 FOUNDRY DR  \n",
       "4        5007B RUSKIN AVE - N  "
      ]
     },
     "execution_count": 19,
     "metadata": {},
     "output_type": "execute_result"
    }
   ],
   "source": [
    "tornado_911.head()"
   ]
  },
  {
   "cell_type": "code",
   "execution_count": null,
   "metadata": {},
   "outputs": [],
   "source": []
  }
 ],
 "metadata": {
  "kernelspec": {
   "display_name": "Python 3",
   "language": "python",
   "name": "python3"
  },
  "language_info": {
   "codemirror_mode": {
    "name": "ipython",
    "version": 3
   },
   "file_extension": ".py",
   "mimetype": "text/x-python",
   "name": "python",
   "nbconvert_exporter": "python",
   "pygments_lexer": "ipython3",
   "version": "3.8.3"
  }
 },
 "nbformat": 4,
 "nbformat_minor": 4
}
