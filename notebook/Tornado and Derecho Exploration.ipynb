{
 "cells": [
  {
   "cell_type": "code",
   "execution_count": 1,
   "metadata": {},
   "outputs": [],
   "source": [
    "from shapely.geometry import Point\n",
    "import pandas as pd\n",
    "import numpy as np\n",
    "import seaborn as sns\n",
    "import geopandas as gpd\n",
    "import matplotlib.pyplot as plt\n",
    "import folium\n",
    "from folium.plugins import MarkerCluster\n",
    "from folium.plugins import FastMarkerCluster"
   ]
  },
  {
   "cell_type": "code",
   "execution_count": 2,
   "metadata": {},
   "outputs": [],
   "source": [
    "%matplotlib inline"
   ]
  },
  {
   "cell_type": "code",
   "execution_count": 3,
   "metadata": {},
   "outputs": [],
   "source": [
    "derecho_911 = pd.read_csv(\"../data/911_Phone Calls_Derecho_050320 050420.csv\")\n",
    "tornado_911 = pd.read_csv(\"../data/911_Phone_Calls_Tornado_030320.csv\")\n",
    "disp_derecho = pd.read_csv(\"../data/Computer Aided Dispatch Data_Derecho Incidents 050320-050420.csv\",skiprows=2)\n",
    "disp_tornado = pd.read_csv(\"../data/Computer Aided Dispatch Data_Tornado Incidents 030320.csv\",skiprows=3)\n",
    "sfamily2017 = pd.read_csv(\"../data/2017 single family_final_with_sqft.csv\")\n",
    "zipcodes = gpd.read_file('../data/zipcodes.geojson')"
   ]
  },
  {
   "cell_type": "code",
   "execution_count": 4,
   "metadata": {},
   "outputs": [],
   "source": [
    "derecho_911.columns =['DateTime', 'CallTypeId', 'Latitude', 'Longitude', 'CellTowerAddress']\n",
    "tornado_911.columns =['DateTime', 'CallTypeId', 'Latitude', 'Longitude', 'CellTowerAddress']\n",
    "disp_derecho.columns =['DateTime', 'Location', 'Latitude', 'Longitude', 'IncidentTypeDescription']\n",
    "disp_tornado.columns =['DateTime', 'Location', 'Latitude', 'Longitude', 'IncidentTypeDescription']\n",
    "sfamily2017.columns =['Parcel','Currency','District','Street','City','zip','2017land','2017improve','2017tot_appr','2017tot_assd','Area']"
   ]
  },
  {
   "cell_type": "code",
   "execution_count": 5,
   "metadata": {},
   "outputs": [
    {
     "data": {
      "text/html": [
       "<div>\n",
       "<style scoped>\n",
       "    .dataframe tbody tr th:only-of-type {\n",
       "        vertical-align: middle;\n",
       "    }\n",
       "\n",
       "    .dataframe tbody tr th {\n",
       "        vertical-align: top;\n",
       "    }\n",
       "\n",
       "    .dataframe thead th {\n",
       "        text-align: right;\n",
       "    }\n",
       "</style>\n",
       "<table border=\"1\" class=\"dataframe\">\n",
       "  <thead>\n",
       "    <tr style=\"text-align: right;\">\n",
       "      <th></th>\n",
       "      <th>DateTime</th>\n",
       "      <th>Location</th>\n",
       "      <th>Latitude</th>\n",
       "      <th>Longitude</th>\n",
       "      <th>IncidentTypeDescription</th>\n",
       "    </tr>\n",
       "  </thead>\n",
       "  <tbody>\n",
       "    <tr>\n",
       "      <th>622</th>\n",
       "      <td>5/4/2020 12:21:00 AM</td>\n",
       "      <td>625 BENTON AV</td>\n",
       "      <td>36.131384</td>\n",
       "      <td>-86.770628</td>\n",
       "      <td>HIGH RISE NATURAL GAS ODOR</td>\n",
       "    </tr>\n",
       "    <tr>\n",
       "      <th>623</th>\n",
       "      <td>5/4/2020 12:21:32 AM</td>\n",
       "      <td>518 BRENTLAWN DR</td>\n",
       "      <td>36.064362</td>\n",
       "      <td>-86.761199</td>\n",
       "      <td>UNKNOWN STATUS</td>\n",
       "    </tr>\n",
       "    <tr>\n",
       "      <th>624</th>\n",
       "      <td>5/4/2020 12:22:47 AM</td>\n",
       "      <td>517 ALBANY DR</td>\n",
       "      <td>36.212754</td>\n",
       "      <td>-86.600431</td>\n",
       "      <td>ELECTRICAL HAZARD</td>\n",
       "    </tr>\n",
       "    <tr>\n",
       "      <th>625</th>\n",
       "      <td>5/4/2020 12:27:52 AM</td>\n",
       "      <td>639 LAFAYETTE ST</td>\n",
       "      <td>36.153769</td>\n",
       "      <td>-86.777520</td>\n",
       "      <td>SICK PERSON: NO PRIORITY SYMPTOMS</td>\n",
       "    </tr>\n",
       "    <tr>\n",
       "      <th>626</th>\n",
       "      <td>5/4/2020 12:29:50 AM</td>\n",
       "      <td>2011 HAYES ST</td>\n",
       "      <td>36.151839</td>\n",
       "      <td>-86.800791</td>\n",
       "      <td>PULL STATION ALARM COMMERCIAL   INDUSTRIAL BUILD</td>\n",
       "    </tr>\n",
       "  </tbody>\n",
       "</table>\n",
       "</div>"
      ],
      "text/plain": [
       "                 DateTime          Location   Latitude  Longitude  \\\n",
       "622  5/4/2020 12:21:00 AM     625 BENTON AV  36.131384 -86.770628   \n",
       "623  5/4/2020 12:21:32 AM  518 BRENTLAWN DR  36.064362 -86.761199   \n",
       "624  5/4/2020 12:22:47 AM     517 ALBANY DR  36.212754 -86.600431   \n",
       "625  5/4/2020 12:27:52 AM  639 LAFAYETTE ST  36.153769 -86.777520   \n",
       "626  5/4/2020 12:29:50 AM    2011 HAYES ST   36.151839 -86.800791   \n",
       "\n",
       "                              IncidentTypeDescription  \n",
       "622                        HIGH RISE NATURAL GAS ODOR  \n",
       "623                                    UNKNOWN STATUS  \n",
       "624                                 ELECTRICAL HAZARD  \n",
       "625                 SICK PERSON: NO PRIORITY SYMPTOMS  \n",
       "626  PULL STATION ALARM COMMERCIAL   INDUSTRIAL BUILD  "
      ]
     },
     "execution_count": 5,
     "metadata": {},
     "output_type": "execute_result"
    }
   ],
   "source": [
    "disp_derecho.tail()"
   ]
  },
  {
   "cell_type": "code",
   "execution_count": 6,
   "metadata": {},
   "outputs": [
    {
     "data": {
      "text/html": [
       "<div>\n",
       "<style scoped>\n",
       "    .dataframe tbody tr th:only-of-type {\n",
       "        vertical-align: middle;\n",
       "    }\n",
       "\n",
       "    .dataframe tbody tr th {\n",
       "        vertical-align: top;\n",
       "    }\n",
       "\n",
       "    .dataframe thead th {\n",
       "        text-align: right;\n",
       "    }\n",
       "</style>\n",
       "<table border=\"1\" class=\"dataframe\">\n",
       "  <thead>\n",
       "    <tr style=\"text-align: right;\">\n",
       "      <th></th>\n",
       "      <th>DateTime</th>\n",
       "      <th>Location</th>\n",
       "      <th>Latitude</th>\n",
       "      <th>Longitude</th>\n",
       "      <th>IncidentTypeDescription</th>\n",
       "    </tr>\n",
       "  </thead>\n",
       "  <tbody>\n",
       "    <tr>\n",
       "      <th>0</th>\n",
       "      <td>3/3/2020 12:36:34 AM</td>\n",
       "      <td>6205 COCKRILL BEND CIR</td>\n",
       "      <td>36.182002</td>\n",
       "      <td>-86.894052</td>\n",
       "      <td>GENERAL ALARM COMMERCIAL   INDUSTRIAL BUILD</td>\n",
       "    </tr>\n",
       "    <tr>\n",
       "      <th>1</th>\n",
       "      <td>3/3/2020 12:37:24 AM</td>\n",
       "      <td>7337 COCKRILL BEND BLVD</td>\n",
       "      <td>36.175666</td>\n",
       "      <td>-86.894978</td>\n",
       "      <td>GENERAL ALARM COMMERCIAL   INDUSTRIAL BUILD</td>\n",
       "    </tr>\n",
       "    <tr>\n",
       "      <th>2</th>\n",
       "      <td>3/3/2020 12:38:17 AM</td>\n",
       "      <td>110 TUNE AIRPORT DR</td>\n",
       "      <td>36.179299</td>\n",
       "      <td>-86.883727</td>\n",
       "      <td>STRUCTURE FIRE COMMERCIAL   INDUSTRIAL</td>\n",
       "    </tr>\n",
       "    <tr>\n",
       "      <th>3</th>\n",
       "      <td>3/3/2020 12:39:40 AM</td>\n",
       "      <td>555 MARRIOTT DR</td>\n",
       "      <td>36.151108</td>\n",
       "      <td>-86.689921</td>\n",
       "      <td>GENERAL ALARM COMMERCIAL   INDUSTRIAL BUILD</td>\n",
       "    </tr>\n",
       "    <tr>\n",
       "      <th>4</th>\n",
       "      <td>3/3/2020 12:39:42 AM</td>\n",
       "      <td>1414 COUNTY HOSPITAL RD</td>\n",
       "      <td>36.177926</td>\n",
       "      <td>-86.845934</td>\n",
       "      <td>GENERAL ALARM COMMERCIAL   INDUSTRIAL BUILD</td>\n",
       "    </tr>\n",
       "  </tbody>\n",
       "</table>\n",
       "</div>"
      ],
      "text/plain": [
       "               DateTime                  Location   Latitude  Longitude  \\\n",
       "0  3/3/2020 12:36:34 AM   6205 COCKRILL BEND CIR   36.182002 -86.894052   \n",
       "1  3/3/2020 12:37:24 AM  7337 COCKRILL BEND BLVD   36.175666 -86.894978   \n",
       "2  3/3/2020 12:38:17 AM      110 TUNE AIRPORT DR   36.179299 -86.883727   \n",
       "3  3/3/2020 12:39:40 AM          555 MARRIOTT DR   36.151108 -86.689921   \n",
       "4  3/3/2020 12:39:42 AM  1414 COUNTY HOSPITAL RD   36.177926 -86.845934   \n",
       "\n",
       "                       IncidentTypeDescription  \n",
       "0  GENERAL ALARM COMMERCIAL   INDUSTRIAL BUILD  \n",
       "1  GENERAL ALARM COMMERCIAL   INDUSTRIAL BUILD  \n",
       "2       STRUCTURE FIRE COMMERCIAL   INDUSTRIAL  \n",
       "3  GENERAL ALARM COMMERCIAL   INDUSTRIAL BUILD  \n",
       "4  GENERAL ALARM COMMERCIAL   INDUSTRIAL BUILD  "
      ]
     },
     "execution_count": 6,
     "metadata": {},
     "output_type": "execute_result"
    }
   ],
   "source": [
    "disp_tornado.head()"
   ]
  },
  {
   "cell_type": "code",
   "execution_count": 7,
   "metadata": {},
   "outputs": [
    {
     "data": {
      "text/plain": [
       "GENERAL ALARM COMMERCIAL   INDUSTRIAL BUILD      27\n",
       "OUTSIDE ODOR                                     26\n",
       "WIRES DOWN WITH NO SMOKE OR ARCING               17\n",
       "SMALL BUILDING INVESTIGATION                     15\n",
       "ELECTRICAL HAZARD WITH OR NEAR WATER             12\n",
       "                                                 ..\n",
       "GENERAL ALARM HIGH LIFE HAZARD                    1\n",
       "ESCALATOR ELEVATOR INVESTIGATION                  1\n",
       "SEIZURE: EFFECTIVE BREATHING NOT VERIFIED >35     1\n",
       "HOUSE FIRE                                        1\n",
       "APARTMENT FIRE                                    1\n",
       "Name: IncidentTypeDescription, Length: 90, dtype: int64"
      ]
     },
     "execution_count": 7,
     "metadata": {},
     "output_type": "execute_result"
    }
   ],
   "source": [
    "disp_tornado['IncidentTypeDescription'].value_counts()"
   ]
  },
  {
   "cell_type": "code",
   "execution_count": 8,
   "metadata": {},
   "outputs": [
    {
     "data": {
      "text/html": [
       "<div>\n",
       "<style scoped>\n",
       "    .dataframe tbody tr th:only-of-type {\n",
       "        vertical-align: middle;\n",
       "    }\n",
       "\n",
       "    .dataframe tbody tr th {\n",
       "        vertical-align: top;\n",
       "    }\n",
       "\n",
       "    .dataframe thead th {\n",
       "        text-align: right;\n",
       "    }\n",
       "</style>\n",
       "<table border=\"1\" class=\"dataframe\">\n",
       "  <thead>\n",
       "    <tr style=\"text-align: right;\">\n",
       "      <th></th>\n",
       "      <th>DateTime</th>\n",
       "      <th>CallTypeId</th>\n",
       "      <th>Latitude</th>\n",
       "      <th>Longitude</th>\n",
       "      <th>CellTowerAddress</th>\n",
       "    </tr>\n",
       "  </thead>\n",
       "  <tbody>\n",
       "    <tr>\n",
       "      <th>0</th>\n",
       "      <td>5/3/2020 16:30</td>\n",
       "      <td>911 Calls</td>\n",
       "      <td>36.247802</td>\n",
       "      <td>-86.716847</td>\n",
       "      <td>WIRELESS CALLER</td>\n",
       "    </tr>\n",
       "    <tr>\n",
       "      <th>1</th>\n",
       "      <td>5/3/2020 16:30</td>\n",
       "      <td>911 Calls</td>\n",
       "      <td>36.143108</td>\n",
       "      <td>-86.800621</td>\n",
       "      <td>1161 21ST AV S - SE</td>\n",
       "    </tr>\n",
       "    <tr>\n",
       "      <th>2</th>\n",
       "      <td>5/3/2020 16:30</td>\n",
       "      <td>911 Calls</td>\n",
       "      <td>36.100516</td>\n",
       "      <td>-87.056329</td>\n",
       "      <td>8013 C MCCRORY LN - N</td>\n",
       "    </tr>\n",
       "    <tr>\n",
       "      <th>3</th>\n",
       "      <td>5/3/2020 16:30</td>\n",
       "      <td>911 Calls</td>\n",
       "      <td>36.130021</td>\n",
       "      <td>-86.927819</td>\n",
       "      <td>5758 RIVER RD - SW</td>\n",
       "    </tr>\n",
       "    <tr>\n",
       "      <th>4</th>\n",
       "      <td>5/3/2020 16:31</td>\n",
       "      <td>911 Calls</td>\n",
       "      <td>36.142380</td>\n",
       "      <td>-86.881882</td>\n",
       "      <td>3744B ANNEX AVE - SE</td>\n",
       "    </tr>\n",
       "  </tbody>\n",
       "</table>\n",
       "</div>"
      ],
      "text/plain": [
       "         DateTime CallTypeId   Latitude  Longitude       CellTowerAddress\n",
       "0  5/3/2020 16:30  911 Calls  36.247802 -86.716847        WIRELESS CALLER\n",
       "1  5/3/2020 16:30  911 Calls  36.143108 -86.800621    1161 21ST AV S - SE\n",
       "2  5/3/2020 16:30  911 Calls  36.100516 -87.056329  8013 C MCCRORY LN - N\n",
       "3  5/3/2020 16:30  911 Calls  36.130021 -86.927819     5758 RIVER RD - SW\n",
       "4  5/3/2020 16:31  911 Calls  36.142380 -86.881882   3744B ANNEX AVE - SE"
      ]
     },
     "execution_count": 8,
     "metadata": {},
     "output_type": "execute_result"
    }
   ],
   "source": [
    "derecho_911.head()"
   ]
  },
  {
   "cell_type": "code",
   "execution_count": 9,
   "metadata": {},
   "outputs": [
    {
     "data": {
      "text/html": [
       "<div>\n",
       "<style scoped>\n",
       "    .dataframe tbody tr th:only-of-type {\n",
       "        vertical-align: middle;\n",
       "    }\n",
       "\n",
       "    .dataframe tbody tr th {\n",
       "        vertical-align: top;\n",
       "    }\n",
       "\n",
       "    .dataframe thead th {\n",
       "        text-align: right;\n",
       "    }\n",
       "</style>\n",
       "<table border=\"1\" class=\"dataframe\">\n",
       "  <thead>\n",
       "    <tr style=\"text-align: right;\">\n",
       "      <th></th>\n",
       "      <th>DateTime</th>\n",
       "      <th>CallTypeId</th>\n",
       "      <th>Latitude</th>\n",
       "      <th>Longitude</th>\n",
       "      <th>CellTowerAddress</th>\n",
       "    </tr>\n",
       "  </thead>\n",
       "  <tbody>\n",
       "    <tr>\n",
       "      <th>0</th>\n",
       "      <td>3/3/2020 0:34</td>\n",
       "      <td>911 Calls</td>\n",
       "      <td>36.072708</td>\n",
       "      <td>-86.665779</td>\n",
       "      <td>620 Richards RD - N Sector</td>\n",
       "    </tr>\n",
       "    <tr>\n",
       "      <th>1</th>\n",
       "      <td>3/3/2020 0:36</td>\n",
       "      <td>911 Calls</td>\n",
       "      <td>36.159634</td>\n",
       "      <td>-86.841904</td>\n",
       "      <td>4507D KENTUCKY AV - SE</td>\n",
       "    </tr>\n",
       "    <tr>\n",
       "      <th>2</th>\n",
       "      <td>3/3/2020 0:36</td>\n",
       "      <td>911 Calls</td>\n",
       "      <td>36.264153</td>\n",
       "      <td>-86.708862</td>\n",
       "      <td>329 THELMA ST - S Sector</td>\n",
       "    </tr>\n",
       "    <tr>\n",
       "      <th>3</th>\n",
       "      <td>3/3/2020 0:36</td>\n",
       "      <td>911 Calls</td>\n",
       "      <td>NaN</td>\n",
       "      <td>NaN</td>\n",
       "      <td>526 FOUNDRY DR</td>\n",
       "    </tr>\n",
       "    <tr>\n",
       "      <th>4</th>\n",
       "      <td>3/3/2020 0:36</td>\n",
       "      <td>911 Calls</td>\n",
       "      <td>36.233467</td>\n",
       "      <td>-86.721077</td>\n",
       "      <td>5007B RUSKIN AVE - N</td>\n",
       "    </tr>\n",
       "  </tbody>\n",
       "</table>\n",
       "</div>"
      ],
      "text/plain": [
       "        DateTime CallTypeId   Latitude  Longitude            CellTowerAddress\n",
       "0  3/3/2020 0:34  911 Calls  36.072708 -86.665779  620 Richards RD - N Sector\n",
       "1  3/3/2020 0:36  911 Calls  36.159634 -86.841904      4507D KENTUCKY AV - SE\n",
       "2  3/3/2020 0:36  911 Calls  36.264153 -86.708862    329 THELMA ST - S Sector\n",
       "3  3/3/2020 0:36  911 Calls        NaN        NaN              526 FOUNDRY DR\n",
       "4  3/3/2020 0:36  911 Calls  36.233467 -86.721077        5007B RUSKIN AVE - N"
      ]
     },
     "execution_count": 9,
     "metadata": {},
     "output_type": "execute_result"
    }
   ],
   "source": [
    "tornado_911.head()"
   ]
  },
  {
   "cell_type": "code",
   "execution_count": 10,
   "metadata": {},
   "outputs": [
    {
     "data": {
      "text/plain": [
       "DateTime             object\n",
       "CallTypeId           object\n",
       "Latitude            float64\n",
       "Longitude           float64\n",
       "CellTowerAddress     object\n",
       "dtype: object"
      ]
     },
     "execution_count": 10,
     "metadata": {},
     "output_type": "execute_result"
    }
   ],
   "source": [
    "tornado_911.dtypes"
   ]
  },
  {
   "cell_type": "code",
   "execution_count": 11,
   "metadata": {},
   "outputs": [
    {
     "data": {
      "text/html": [
       "<div>\n",
       "<style scoped>\n",
       "    .dataframe tbody tr th:only-of-type {\n",
       "        vertical-align: middle;\n",
       "    }\n",
       "\n",
       "    .dataframe tbody tr th {\n",
       "        vertical-align: top;\n",
       "    }\n",
       "\n",
       "    .dataframe thead th {\n",
       "        text-align: right;\n",
       "    }\n",
       "</style>\n",
       "<table border=\"1\" class=\"dataframe\">\n",
       "  <thead>\n",
       "    <tr style=\"text-align: right;\">\n",
       "      <th></th>\n",
       "      <th>zip</th>\n",
       "      <th>objectid</th>\n",
       "      <th>po_name</th>\n",
       "      <th>shape_stlength</th>\n",
       "      <th>shape_starea</th>\n",
       "      <th>geometry</th>\n",
       "    </tr>\n",
       "  </thead>\n",
       "  <tbody>\n",
       "    <tr>\n",
       "      <th>0</th>\n",
       "      <td>37115</td>\n",
       "      <td>1</td>\n",
       "      <td>MADISON</td>\n",
       "      <td>178783.02488886821</td>\n",
       "      <td>596553400.57885742</td>\n",
       "      <td>MULTIPOLYGON (((-86.68725 36.31821, -86.68722 ...</td>\n",
       "    </tr>\n",
       "    <tr>\n",
       "      <th>1</th>\n",
       "      <td>37216</td>\n",
       "      <td>3</td>\n",
       "      <td>NASHVILLE</td>\n",
       "      <td>75820.997821400058</td>\n",
       "      <td>188884682.28344727</td>\n",
       "      <td>MULTIPOLYGON (((-86.73451 36.23774, -86.73425 ...</td>\n",
       "    </tr>\n",
       "    <tr>\n",
       "      <th>2</th>\n",
       "      <td>37204</td>\n",
       "      <td>9</td>\n",
       "      <td>NASHVILLE</td>\n",
       "      <td>93180.292250425613</td>\n",
       "      <td>200664795.51708984</td>\n",
       "      <td>MULTIPOLYGON (((-86.77914 36.13424, -86.77923 ...</td>\n",
       "    </tr>\n",
       "    <tr>\n",
       "      <th>3</th>\n",
       "      <td>37027</td>\n",
       "      <td>11</td>\n",
       "      <td>BRENTWOOD</td>\n",
       "      <td>159760.6942933173</td>\n",
       "      <td>174978422.04101562</td>\n",
       "      <td>MULTIPOLYGON (((-86.81258 36.06319, -86.81263 ...</td>\n",
       "    </tr>\n",
       "    <tr>\n",
       "      <th>4</th>\n",
       "      <td>37064</td>\n",
       "      <td>18</td>\n",
       "      <td>FRANKLIN</td>\n",
       "      <td>28995.828320601937</td>\n",
       "      <td>46969608.005737305</td>\n",
       "      <td>MULTIPOLYGON (((-87.02197 36.01200, -87.02140 ...</td>\n",
       "    </tr>\n",
       "  </tbody>\n",
       "</table>\n",
       "</div>"
      ],
      "text/plain": [
       "     zip objectid    po_name      shape_stlength        shape_starea  \\\n",
       "0  37115        1    MADISON  178783.02488886821  596553400.57885742   \n",
       "1  37216        3  NASHVILLE  75820.997821400058  188884682.28344727   \n",
       "2  37204        9  NASHVILLE  93180.292250425613  200664795.51708984   \n",
       "3  37027       11  BRENTWOOD   159760.6942933173  174978422.04101562   \n",
       "4  37064       18   FRANKLIN  28995.828320601937  46969608.005737305   \n",
       "\n",
       "                                            geometry  \n",
       "0  MULTIPOLYGON (((-86.68725 36.31821, -86.68722 ...  \n",
       "1  MULTIPOLYGON (((-86.73451 36.23774, -86.73425 ...  \n",
       "2  MULTIPOLYGON (((-86.77914 36.13424, -86.77923 ...  \n",
       "3  MULTIPOLYGON (((-86.81258 36.06319, -86.81263 ...  \n",
       "4  MULTIPOLYGON (((-87.02197 36.01200, -87.02140 ...  "
      ]
     },
     "execution_count": 11,
     "metadata": {},
     "output_type": "execute_result"
    }
   ],
   "source": [
    "zipcodes.head()"
   ]
  },
  {
   "cell_type": "code",
   "execution_count": 12,
   "metadata": {},
   "outputs": [
    {
     "data": {
      "text/html": [
       "<div>\n",
       "<style scoped>\n",
       "    .dataframe tbody tr th:only-of-type {\n",
       "        vertical-align: middle;\n",
       "    }\n",
       "\n",
       "    .dataframe tbody tr th {\n",
       "        vertical-align: top;\n",
       "    }\n",
       "\n",
       "    .dataframe thead th {\n",
       "        text-align: right;\n",
       "    }\n",
       "</style>\n",
       "<table border=\"1\" class=\"dataframe\">\n",
       "  <thead>\n",
       "    <tr style=\"text-align: right;\">\n",
       "      <th></th>\n",
       "      <th>DateTime</th>\n",
       "      <th>Location</th>\n",
       "      <th>Latitude</th>\n",
       "      <th>Longitude</th>\n",
       "      <th>IncidentTypeDescription</th>\n",
       "      <th>geometry</th>\n",
       "    </tr>\n",
       "  </thead>\n",
       "  <tbody>\n",
       "    <tr>\n",
       "      <th>0</th>\n",
       "      <td>3/3/2020 12:36:34 AM</td>\n",
       "      <td>6205 COCKRILL BEND CIR</td>\n",
       "      <td>36.182002</td>\n",
       "      <td>-86.894052</td>\n",
       "      <td>GENERAL ALARM COMMERCIAL   INDUSTRIAL BUILD</td>\n",
       "      <td>POINT (-86.89405212 36.18200191)</td>\n",
       "    </tr>\n",
       "    <tr>\n",
       "      <th>1</th>\n",
       "      <td>3/3/2020 12:37:24 AM</td>\n",
       "      <td>7337 COCKRILL BEND BLVD</td>\n",
       "      <td>36.175666</td>\n",
       "      <td>-86.894978</td>\n",
       "      <td>GENERAL ALARM COMMERCIAL   INDUSTRIAL BUILD</td>\n",
       "      <td>POINT (-86.89497756999999 36.175666)</td>\n",
       "    </tr>\n",
       "    <tr>\n",
       "      <th>2</th>\n",
       "      <td>3/3/2020 12:38:17 AM</td>\n",
       "      <td>110 TUNE AIRPORT DR</td>\n",
       "      <td>36.179299</td>\n",
       "      <td>-86.883727</td>\n",
       "      <td>STRUCTURE FIRE COMMERCIAL   INDUSTRIAL</td>\n",
       "      <td>POINT (-86.8837274 36.17929946)</td>\n",
       "    </tr>\n",
       "  </tbody>\n",
       "</table>\n",
       "</div>"
      ],
      "text/plain": [
       "               DateTime                  Location   Latitude  Longitude  \\\n",
       "0  3/3/2020 12:36:34 AM   6205 COCKRILL BEND CIR   36.182002 -86.894052   \n",
       "1  3/3/2020 12:37:24 AM  7337 COCKRILL BEND BLVD   36.175666 -86.894978   \n",
       "2  3/3/2020 12:38:17 AM      110 TUNE AIRPORT DR   36.179299 -86.883727   \n",
       "\n",
       "                       IncidentTypeDescription  \\\n",
       "0  GENERAL ALARM COMMERCIAL   INDUSTRIAL BUILD   \n",
       "1  GENERAL ALARM COMMERCIAL   INDUSTRIAL BUILD   \n",
       "2       STRUCTURE FIRE COMMERCIAL   INDUSTRIAL   \n",
       "\n",
       "                               geometry  \n",
       "0      POINT (-86.89405212 36.18200191)  \n",
       "1  POINT (-86.89497756999999 36.175666)  \n",
       "2       POINT (-86.8837274 36.17929946)  "
      ]
     },
     "execution_count": 12,
     "metadata": {},
     "output_type": "execute_result"
    }
   ],
   "source": [
    "disp_tornado['geometry'] = disp_tornado.apply(lambda x: Point((float(x.Longitude), \n",
    "                                                         float(x.Latitude))), \n",
    "                                        axis=1)\n",
    "disp_tornado.head(3)"
   ]
  },
  {
   "cell_type": "code",
   "execution_count": 13,
   "metadata": {},
   "outputs": [],
   "source": [
    "dt_geo = gpd.GeoDataFrame(disp_tornado, \n",
    "                           crs = zipcodes.crs, \n",
    "                           geometry = disp_tornado['geometry'])"
   ]
  },
  {
   "cell_type": "code",
   "execution_count": 14,
   "metadata": {},
   "outputs": [],
   "source": [
    "zipcodes = zipcodes[['zip', 'po_name', 'geometry']]"
   ]
  },
  {
   "cell_type": "code",
   "execution_count": 15,
   "metadata": {},
   "outputs": [],
   "source": [
    "dt_by_zip = gpd.sjoin(dt_geo, zipcodes, op = 'within')"
   ]
  },
  {
   "cell_type": "code",
   "execution_count": 16,
   "metadata": {},
   "outputs": [
    {
     "data": {
      "text/plain": [
       "37206    72\n",
       "37208    59\n",
       "37076    37\n",
       "37214    27\n",
       "37209    14\n",
       "37201     7\n",
       "37207     7\n",
       "37115     6\n",
       "37213     5\n",
       "37218     5\n",
       "37219     5\n",
       "37205     3\n",
       "37210     2\n",
       "37203     2\n",
       "37216     2\n",
       "37211     2\n",
       "37013     1\n",
       "37080     1\n",
       "37228     1\n",
       "37138     1\n",
       "37217     1\n",
       "Name: zip, dtype: int64"
      ]
     },
     "execution_count": 16,
     "metadata": {},
     "output_type": "execute_result"
    }
   ],
   "source": [
    "dt_by_zip['zip'].value_counts()"
   ]
  },
  {
   "cell_type": "code",
   "execution_count": 17,
   "metadata": {},
   "outputs": [],
   "source": [
    "tornado_911['geometry'] = tornado_911.apply(lambda x: Point((float(x.Longitude), \n",
    "                                                         float(x.Latitude))), \n",
    "                                        axis=1)\n",
    "derecho_911['geometry'] = derecho_911.apply(lambda x: Point((float(x.Longitude), \n",
    "                                                         float(x.Latitude))), \n",
    "                                        axis=1)\n",
    "disp_derecho['geometry'] = disp_derecho.apply(lambda x: Point((float(x.Longitude), \n",
    "                                                         float(x.Latitude))), \n",
    "                                        axis=1)"
   ]
  },
  {
   "cell_type": "code",
   "execution_count": 18,
   "metadata": {},
   "outputs": [],
   "source": [
    "t9_geo = gpd.GeoDataFrame(tornado_911, \n",
    "                           crs = zipcodes.crs, \n",
    "                           geometry = tornado_911['geometry'])\n",
    "d9_geo = gpd.GeoDataFrame(derecho_911, \n",
    "                           crs = zipcodes.crs, \n",
    "                           geometry = derecho_911['geometry'])\n",
    "dd_geo = gpd.GeoDataFrame(disp_derecho, \n",
    "                           crs = zipcodes.crs, \n",
    "                           geometry = disp_derecho['geometry'])"
   ]
  },
  {
   "cell_type": "code",
   "execution_count": 19,
   "metadata": {},
   "outputs": [],
   "source": [
    "t9_by_zip = gpd.sjoin(t9_geo, zipcodes, op = 'within')\n",
    "d9_by_zip = gpd.sjoin(d9_geo, zipcodes, op = 'within')\n",
    "dd_by_zip = gpd.sjoin(dd_geo, zipcodes, op = 'within')"
   ]
  },
  {
   "cell_type": "code",
   "execution_count": 20,
   "metadata": {
    "scrolled": true
   },
   "outputs": [
    {
     "data": {
      "text/plain": [
       "37206    90\n",
       "37208    80\n",
       "37076    56\n",
       "37214    32\n",
       "37207    30\n",
       "37209    24\n",
       "37013    17\n",
       "37203    14\n",
       "37115    12\n",
       "37201    12\n",
       "37219     9\n",
       "37210     8\n",
       "37217     7\n",
       "37189     7\n",
       "37213     6\n",
       "37211     5\n",
       "37215     4\n",
       "37216     3\n",
       "37072     3\n",
       "37221     3\n",
       "37212     2\n",
       "37218     2\n",
       "37205     2\n",
       "37138     2\n",
       "37080     1\n",
       "37232     1\n",
       "37228     1\n",
       "37204     1\n",
       "Name: zip, dtype: int64"
      ]
     },
     "execution_count": 20,
     "metadata": {},
     "output_type": "execute_result"
    }
   ],
   "source": [
    "t9_by_zip['zip'].value_counts()"
   ]
  },
  {
   "cell_type": "code",
   "execution_count": 21,
   "metadata": {
    "scrolled": false
   },
   "outputs": [
    {
     "name": "stdout",
     "output_type": "stream",
     "text": [
      "      zip   2017tot_appr\n",
      "0       0  136000.000000\n",
      "1   37013  175335.304304\n",
      "2   37015  170422.929936\n",
      "3   37027  392619.066426\n",
      "4   37064  433366.666667\n",
      "5   37072  205442.175486\n",
      "6   37076  200122.446072\n",
      "7   37080  218828.002656\n",
      "8   37086  272633.333333\n",
      "9   37115  155587.821103\n",
      "10  37122  319443.984962\n",
      "11  37135  287853.500000\n",
      "12  37138  221998.365867\n",
      "13  37143  221569.942197\n",
      "14  37189  207007.189015\n",
      "15  37201  347757.983193\n",
      "16  37203  378490.666667\n",
      "17  37204  519507.413841\n",
      "18  37205  674229.108548\n",
      "19  37206  306881.385714\n",
      "20  37207  163434.537887\n",
      "21  37208  207533.434256\n",
      "22  37209  269223.371097\n",
      "23  37210  161682.393729\n",
      "24  37211  209182.492458\n",
      "25  37212  474251.337608\n",
      "26  37214  186177.134090\n",
      "27  37215  666319.812540\n",
      "28  37216  251392.491027\n",
      "29  37217  151203.475742\n",
      "30  37218  159725.800454\n",
      "31  37219  295797.965116\n",
      "32  37220  585862.788062\n",
      "33  37221  270005.132525\n"
     ]
    }
   ],
   "source": [
    "sfamily2017=sfamily2017[['zip','2017tot_appr']]\n",
    "zipvalues = sfamily2017.groupby(['zip']).mean()\n",
    "zipvalues = zipvalues.reset_index()\n",
    "print(zipvalues)"
   ]
  },
  {
   "cell_type": "code",
   "execution_count": 22,
   "metadata": {
    "scrolled": true
   },
   "outputs": [
    {
     "name": "stdout",
     "output_type": "stream",
     "text": [
      "          DateTime CallTypeId   Latitude  Longitude  \\\n",
      "0    3/3/2020 0:34  911 Calls  36.072708 -86.665779   \n",
      "1    3/3/2020 0:38  911 Calls  36.052055 -86.648331   \n",
      "2    3/3/2020 0:53  911 Calls  36.050048 -86.650629   \n",
      "3    3/3/2020 1:29  911 Calls  36.068298 -86.681550   \n",
      "4    3/3/2020 1:40  911 Calls  36.058578 -86.699745   \n",
      "..             ...        ...        ...        ...   \n",
      "429  3/3/2020 4:25  911 Calls  36.190487 -86.833237   \n",
      "430  3/3/2020 1:34  911 Calls  36.308312 -86.720581   \n",
      "431  3/3/2020 2:10  911 Calls  36.311104 -86.707214   \n",
      "432  3/3/2020 2:12  911 Calls  36.311102 -86.707213   \n",
      "433  3/3/2020 1:39  911 Calls  36.189438 -86.799713   \n",
      "\n",
      "                         CellTowerAddress                    geometry  \\\n",
      "0              620 Richards RD - N Sector  POINT (-86.66578 36.07271)   \n",
      "1               745 BELL RD - OMNI Sector  POINT (-86.64833 36.05205)   \n",
      "2                     5646 AMALIE DR - SE  POINT (-86.65063 36.05005)   \n",
      "3           3930 APACHE TRAIL - SE SECTOR  POINT (-86.68155 36.06830)   \n",
      "4                    5067 COLEMONT DR - N  POINT (-86.69974 36.05858)   \n",
      "..                                    ...                         ...   \n",
      "429          2111 Summitt Ave - Sector SW  POINT (-86.83324 36.19049)   \n",
      "430      1000 S CARTWRIGHT ST - SECTOR SW  POINT (-86.72058 36.30831)   \n",
      "431              456 MOSS TRL - SE Sector  POINT (-86.70721 36.31110)   \n",
      "432                       WIRELESS CALLER  POINT (-86.70721 36.31110)   \n",
      "433  2025B METRO CENTER BLVD. - SW SECTOR  POINT (-86.79971 36.18944)   \n",
      "\n",
      "     index_right    zip         po_name   2017tot_appr  \n",
      "0             51  37013         ANTIOCH  175335.304304  \n",
      "1             51  37013         ANTIOCH  175335.304304  \n",
      "2             51  37013         ANTIOCH  175335.304304  \n",
      "3             51  37013         ANTIOCH  175335.304304  \n",
      "4             51  37013         ANTIOCH  175335.304304  \n",
      "..           ...    ...             ...            ...  \n",
      "429           27  37218       NASHVILLE  159725.800454  \n",
      "430            8  37072  GOODLETTSVILLE  205442.175486  \n",
      "431            8  37072  GOODLETTSVILLE  205442.175486  \n",
      "432            8  37072  GOODLETTSVILLE  205442.175486  \n",
      "433           45  37228       NASHVILLE            NaN  \n",
      "\n",
      "[434 rows x 10 columns]\n"
     ]
    }
   ],
   "source": [
    "t9_by_zip.zip = t9_by_zip.zip.astype(int)\n",
    "zipvalues.zip = zipvalues.zip.astype(int)\n",
    "t9_by_zip = t9_by_zip.merge(zipvalues,how='left',on='zip')\n",
    "print(t9_by_zip)"
   ]
  },
  {
   "cell_type": "code",
   "execution_count": 23,
   "metadata": {},
   "outputs": [],
   "source": [
    "d9_by_zip.zip = d9_by_zip.zip.astype(int)\n",
    "d9_by_zip = d9_by_zip.merge(zipvalues,how='left',on='zip')\n",
    "\n",
    "dt_by_zip.zip = dt_by_zip.zip.astype(int)\n",
    "dt_by_zip = dt_by_zip.merge(zipvalues,how='left',on='zip')\n",
    "\n",
    "dd_by_zip.zip = dd_by_zip.zip.astype(int)\n",
    "dd_by_zip = dd_by_zip.merge(zipvalues,how='left',on='zip')"
   ]
  },
  {
   "cell_type": "code",
   "execution_count": 24,
   "metadata": {},
   "outputs": [],
   "source": [
    "t9_by_zip = t9_by_zip.drop(['index_right'], axis=1)\n",
    "d9_by_zip = d9_by_zip.drop(['index_right'], axis=1)\n",
    "dt_by_zip = dt_by_zip.drop(['index_right'], axis=1)\n",
    "dd_by_zip = dd_by_zip.drop(['index_right'], axis=1)"
   ]
  },
  {
   "cell_type": "code",
   "execution_count": 25,
   "metadata": {},
   "outputs": [],
   "source": [
    "t9_by_zip['Counts'] = t9_by_zip.groupby(['zip'])['2017tot_appr'].transform('count')"
   ]
  },
  {
   "cell_type": "code",
   "execution_count": 26,
   "metadata": {},
   "outputs": [],
   "source": [
    "d9_by_zip['Counts'] = d9_by_zip.groupby(['zip'])['2017tot_appr'].transform('count')"
   ]
  },
  {
   "cell_type": "code",
   "execution_count": 27,
   "metadata": {},
   "outputs": [],
   "source": [
    "t9corr = t9_by_zip[[\"2017tot_appr\", \"Counts\"]]\n",
    "d9corr = d9_by_zip[[\"2017tot_appr\", \"Counts\"]]"
   ]
  },
  {
   "cell_type": "code",
   "execution_count": 28,
   "metadata": {},
   "outputs": [
    {
     "data": {
      "text/html": [
       "<div>\n",
       "<style scoped>\n",
       "    .dataframe tbody tr th:only-of-type {\n",
       "        vertical-align: middle;\n",
       "    }\n",
       "\n",
       "    .dataframe tbody tr th {\n",
       "        vertical-align: top;\n",
       "    }\n",
       "\n",
       "    .dataframe thead th {\n",
       "        text-align: right;\n",
       "    }\n",
       "</style>\n",
       "<table border=\"1\" class=\"dataframe\">\n",
       "  <thead>\n",
       "    <tr style=\"text-align: right;\">\n",
       "      <th></th>\n",
       "      <th>2017tot_appr</th>\n",
       "      <th>Counts</th>\n",
       "    </tr>\n",
       "  </thead>\n",
       "  <tbody>\n",
       "    <tr>\n",
       "      <th>2017tot_appr</th>\n",
       "      <td>1.000000</td>\n",
       "      <td>0.058843</td>\n",
       "    </tr>\n",
       "    <tr>\n",
       "      <th>Counts</th>\n",
       "      <td>0.058843</td>\n",
       "      <td>1.000000</td>\n",
       "    </tr>\n",
       "  </tbody>\n",
       "</table>\n",
       "</div>"
      ],
      "text/plain": [
       "              2017tot_appr    Counts\n",
       "2017tot_appr      1.000000  0.058843\n",
       "Counts            0.058843  1.000000"
      ]
     },
     "execution_count": 28,
     "metadata": {},
     "output_type": "execute_result"
    }
   ],
   "source": [
    "t9corr.corr()"
   ]
  },
  {
   "cell_type": "markdown",
   "metadata": {},
   "source": [
    "911 calls from the tornado event have negligible positive correlation with average property values by zip code, meaning that areas with higher property values slightly tended to generate more calls. The tornado impact was pretty localized, and even though this tornado took a similar path through Nashville as the last major tornado, the two zip codes most impacted don't seem to have had their property values impacted negatively."
   ]
  },
  {
   "cell_type": "code",
   "execution_count": 29,
   "metadata": {},
   "outputs": [
    {
     "data": {
      "text/html": [
       "<div>\n",
       "<style scoped>\n",
       "    .dataframe tbody tr th:only-of-type {\n",
       "        vertical-align: middle;\n",
       "    }\n",
       "\n",
       "    .dataframe tbody tr th {\n",
       "        vertical-align: top;\n",
       "    }\n",
       "\n",
       "    .dataframe thead th {\n",
       "        text-align: right;\n",
       "    }\n",
       "</style>\n",
       "<table border=\"1\" class=\"dataframe\">\n",
       "  <thead>\n",
       "    <tr style=\"text-align: right;\">\n",
       "      <th></th>\n",
       "      <th>2017tot_appr</th>\n",
       "      <th>Counts</th>\n",
       "    </tr>\n",
       "  </thead>\n",
       "  <tbody>\n",
       "    <tr>\n",
       "      <th>2017tot_appr</th>\n",
       "      <td>1.000000</td>\n",
       "      <td>-0.298255</td>\n",
       "    </tr>\n",
       "    <tr>\n",
       "      <th>Counts</th>\n",
       "      <td>-0.298255</td>\n",
       "      <td>1.000000</td>\n",
       "    </tr>\n",
       "  </tbody>\n",
       "</table>\n",
       "</div>"
      ],
      "text/plain": [
       "              2017tot_appr    Counts\n",
       "2017tot_appr      1.000000 -0.298255\n",
       "Counts           -0.298255  1.000000"
      ]
     },
     "execution_count": 29,
     "metadata": {},
     "output_type": "execute_result"
    }
   ],
   "source": [
    "d9corr.corr()"
   ]
  },
  {
   "cell_type": "markdown",
   "metadata": {},
   "source": [
    "911 calls from the derecho event have weak negative correlation with average property values by zip code, so areas with lower property values generated more calls. Since the derecho was more widespread, it placed stress on infrastructure and trees all around the county. It stands to reason that lower property value zip codes would potentially have older, less maintained infrastructure, and since the impact wasn't localized, the calls would seem to reflect that difference."
   ]
  },
  {
   "cell_type": "code",
   "execution_count": 30,
   "metadata": {},
   "outputs": [
    {
     "data": {
      "image/png": "[encoded data removed]",
      "text/plain": [
       "<Figure size 576x720 with 1 Axes>"
      ]
     },
     "metadata": {
      "needs_background": "light"
     },
     "output_type": "display_data"
    }
   ],
   "source": [
    "ax = zipcodes.plot(figsize = (8, 10), color = 'lightgreen')\n",
    "t9_geo.plot( ax = ax, column = 'CellTowerAddress');\n",
    "plt.show();"
   ]
  },
  {
   "cell_type": "code",
   "execution_count": 31,
   "metadata": {},
   "outputs": [],
   "source": [
    "t9_37206 = t9_by_zip.loc[t9_by_zip['zip'].isin(['37206'])]\n",
    "t9_37208 = t9_by_zip.loc[t9_by_zip['zip'].isin(['37208'])]\n",
    "t9_37076 = t9_by_zip.loc[t9_by_zip['zip'].isin(['37076'])]"
   ]
  },
  {
   "cell_type": "code",
   "execution_count": 32,
   "metadata": {},
   "outputs": [],
   "source": [
    "polygon37206 = zipcodes.loc[zipcodes['zip'] == '37206']\n",
    "polygon37208 = zipcodes.loc[zipcodes['zip'] == '37208']\n",
    "polygon37076 = zipcodes.loc[zipcodes['zip'] == '37076']"
   ]
  },
  {
   "cell_type": "code",
   "execution_count": 33,
   "metadata": {},
   "outputs": [
    {
     "data": {
      "text/html": [
       "<div>\n",
       "<style scoped>\n",
       "    .dataframe tbody tr th:only-of-type {\n",
       "        vertical-align: middle;\n",
       "    }\n",
       "\n",
       "    .dataframe tbody tr th {\n",
       "        vertical-align: top;\n",
       "    }\n",
       "\n",
       "    .dataframe thead th {\n",
       "        text-align: right;\n",
       "    }\n",
       "</style>\n",
       "<table border=\"1\" class=\"dataframe\">\n",
       "  <thead>\n",
       "    <tr style=\"text-align: right;\">\n",
       "      <th></th>\n",
       "      <th>DateTime</th>\n",
       "      <th>CallTypeId</th>\n",
       "      <th>Latitude</th>\n",
       "      <th>Longitude</th>\n",
       "      <th>CellTowerAddress</th>\n",
       "      <th>geometry</th>\n",
       "      <th>zip</th>\n",
       "      <th>po_name</th>\n",
       "      <th>2017tot_appr</th>\n",
       "      <th>Counts</th>\n",
       "    </tr>\n",
       "  </thead>\n",
       "  <tbody>\n",
       "    <tr>\n",
       "      <th>218</th>\n",
       "      <td>3/3/2020 0:44</td>\n",
       "      <td>911 Calls</td>\n",
       "      <td>36.185049</td>\n",
       "      <td>-86.748283</td>\n",
       "      <td>1051G CHICAMAUGA AVE - S</td>\n",
       "      <td>POINT (-86.74828 36.18505)</td>\n",
       "      <td>37206</td>\n",
       "      <td>NASHVILLE</td>\n",
       "      <td>306881.385714</td>\n",
       "      <td>90</td>\n",
       "    </tr>\n",
       "    <tr>\n",
       "      <th>219</th>\n",
       "      <td>3/3/2020 0:45</td>\n",
       "      <td>911 Calls</td>\n",
       "      <td>36.177376</td>\n",
       "      <td>-86.754013</td>\n",
       "      <td>10-C LUCILLE STREET - SE SECTOR</td>\n",
       "      <td>POINT (-86.75401 36.17738)</td>\n",
       "      <td>37206</td>\n",
       "      <td>NASHVILLE</td>\n",
       "      <td>306881.385714</td>\n",
       "      <td>90</td>\n",
       "    </tr>\n",
       "    <tr>\n",
       "      <th>220</th>\n",
       "      <td>3/3/2020 0:45</td>\n",
       "      <td>911 Calls</td>\n",
       "      <td>36.172968</td>\n",
       "      <td>-86.764719</td>\n",
       "      <td>411D FATHERLAND STRE - NE</td>\n",
       "      <td>POINT (-86.76472 36.17297)</td>\n",
       "      <td>37206</td>\n",
       "      <td>NASHVILLE</td>\n",
       "      <td>306881.385714</td>\n",
       "      <td>90</td>\n",
       "    </tr>\n",
       "    <tr>\n",
       "      <th>221</th>\n",
       "      <td>3/3/2020 0:51</td>\n",
       "      <td>911 Calls</td>\n",
       "      <td>36.172970</td>\n",
       "      <td>-86.764717</td>\n",
       "      <td>411D FATHERLAND STRE - NE</td>\n",
       "      <td>POINT (-86.76472 36.17297)</td>\n",
       "      <td>37206</td>\n",
       "      <td>NASHVILLE</td>\n",
       "      <td>306881.385714</td>\n",
       "      <td>90</td>\n",
       "    </tr>\n",
       "    <tr>\n",
       "      <th>222</th>\n",
       "      <td>3/3/2020 0:54</td>\n",
       "      <td>911 Calls</td>\n",
       "      <td>36.174404</td>\n",
       "      <td>-86.727081</td>\n",
       "      <td>254 RIVERSIDE DR - N</td>\n",
       "      <td>POINT (-86.72708 36.17440)</td>\n",
       "      <td>37206</td>\n",
       "      <td>NASHVILLE</td>\n",
       "      <td>306881.385714</td>\n",
       "      <td>90</td>\n",
       "    </tr>\n",
       "  </tbody>\n",
       "</table>\n",
       "</div>"
      ],
      "text/plain": [
       "          DateTime CallTypeId   Latitude  Longitude  \\\n",
       "218  3/3/2020 0:44  911 Calls  36.185049 -86.748283   \n",
       "219  3/3/2020 0:45  911 Calls  36.177376 -86.754013   \n",
       "220  3/3/2020 0:45  911 Calls  36.172968 -86.764719   \n",
       "221  3/3/2020 0:51  911 Calls  36.172970 -86.764717   \n",
       "222  3/3/2020 0:54  911 Calls  36.174404 -86.727081   \n",
       "\n",
       "                    CellTowerAddress                    geometry    zip  \\\n",
       "218         1051G CHICAMAUGA AVE - S  POINT (-86.74828 36.18505)  37206   \n",
       "219  10-C LUCILLE STREET - SE SECTOR  POINT (-86.75401 36.17738)  37206   \n",
       "220        411D FATHERLAND STRE - NE  POINT (-86.76472 36.17297)  37206   \n",
       "221        411D FATHERLAND STRE - NE  POINT (-86.76472 36.17297)  37206   \n",
       "222             254 RIVERSIDE DR - N  POINT (-86.72708 36.17440)  37206   \n",
       "\n",
       "       po_name   2017tot_appr  Counts  \n",
       "218  NASHVILLE  306881.385714      90  \n",
       "219  NASHVILLE  306881.385714      90  \n",
       "220  NASHVILLE  306881.385714      90  \n",
       "221  NASHVILLE  306881.385714      90  \n",
       "222  NASHVILLE  306881.385714      90  "
      ]
     },
     "execution_count": 33,
     "metadata": {},
     "output_type": "execute_result"
    }
   ],
   "source": [
    "t9_37206.head()"
   ]
  },
  {
   "cell_type": "code",
   "execution_count": 34,
   "metadata": {},
   "outputs": [
    {
     "data": {
      "image/png": "[encoded data removed]",
      "text/plain": [
       "<Figure size 576x720 with 1 Axes>"
      ]
     },
     "metadata": {
      "needs_background": "light"
     },
     "output_type": "display_data"
    }
   ],
   "source": [
    "ax = polygon37076.plot(figsize = (8, 10), color = 'lightgreen')\n",
    "t9_37076.plot( ax = ax, column = 'CellTowerAddress');\n",
    "plt.show();"
   ]
  },
  {
   "cell_type": "code",
   "execution_count": 35,
   "metadata": {},
   "outputs": [
    {
     "data": {
      "text/plain": [
       "(array([150., 125.,  86.,  60.,  54.]),\n",
       " array([  0. ,  37.6,  75.2, 112.8, 150.4, 188. ]),\n",
       " <BarContainer object of 5 artists>)"
      ]
     },
     "execution_count": 35,
     "metadata": {},
     "output_type": "execute_result"
    },
    {
     "data": {
      "image/png": "[encoded data removed]",
      "text/plain": [
       "<Figure size 432x288 with 1 Axes>"
      ]
     },
     "metadata": {
      "needs_background": "light"
     },
     "output_type": "display_data"
    }
   ],
   "source": [
    "plt.hist(tornado_911['DateTime'], bins=5)"
   ]
  },
  {
   "cell_type": "code",
   "execution_count": 36,
   "metadata": {},
   "outputs": [
    {
     "data": {
      "text/plain": [
       "(array([390., 473., 327., 192., 167.]),\n",
       " array([  0.,  83., 166., 249., 332., 415.]),\n",
       " <BarContainer object of 5 artists>)"
      ]
     },
     "execution_count": 36,
     "metadata": {},
     "output_type": "execute_result"
    },
    {
     "data": {
      "image/png": "[encoded data removed]",
      "text/plain": [
       "<Figure size 432x288 with 1 Axes>"
      ]
     },
     "metadata": {
      "needs_background": "light"
     },
     "output_type": "display_data"
    }
   ],
   "source": [
    "plt.hist(derecho_911['DateTime'], bins=5)"
   ]
  },
  {
   "cell_type": "code",
   "execution_count": 37,
   "metadata": {},
   "outputs": [
    {
     "name": "stderr",
     "output_type": "stream",
     "text": [
      "<ipython-input-37-2dee0cdaba00>:1: UserWarning: Geometry is in a geographic CRS. Results from 'centroid' are likely incorrect. Use 'GeoSeries.to_crs()' to re-project geometries to a projected CRS before this operation.\n",
      "\n",
      "  zipcodes.geometry.centroid\n"
     ]
    },
    {
     "data": {
      "text/plain": [
       "0     POINT (-86.69477 36.25433)\n",
       "1     POINT (-86.72635 36.21605)\n",
       "2     POINT (-86.77467 36.10566)\n",
       "3     POINT (-86.78551 36.04148)\n",
       "4     POINT (-87.02866 36.00026)\n",
       "5     POINT (-87.03712 36.08997)\n",
       "6     POINT (-86.86263 36.38001)\n",
       "7     POINT (-86.97531 36.06283)\n",
       "8     POINT (-86.76433 36.33621)\n",
       "9     POINT (-86.80157 36.13335)\n",
       "10    POINT (-86.63653 35.98113)\n",
       "11    POINT (-86.72226 36.00938)\n",
       "12    POINT (-86.91816 36.15605)\n",
       "13    POINT (-86.73098 36.18090)\n",
       "14    POINT (-86.69470 36.00387)\n",
       "15    POINT (-86.85733 36.37882)\n",
       "16    POINT (-86.72570 36.00942)\n",
       "17    POINT (-86.66093 36.10779)\n",
       "18    POINT (-86.82996 36.27880)\n",
       "19    POINT (-86.78726 36.28724)\n",
       "20    POINT (-86.89487 36.32034)\n",
       "21    POINT (-86.68513 35.99434)\n",
       "22    POINT (-86.64118 36.25192)\n",
       "23    POINT (-86.98674 36.15655)\n",
       "24    POINT (-86.78317 36.16682)\n",
       "25    POINT (-86.68331 35.99201)\n",
       "26    POINT (-86.76289 36.39920)\n",
       "27    POINT (-86.89039 36.20505)\n",
       "28    POINT (-86.52221 36.13926)\n",
       "29    POINT (-86.67866 35.98840)\n",
       "30    POINT (-86.80236 36.14071)\n",
       "31    POINT (-86.76851 36.16713)\n",
       "32    POINT (-86.87327 36.11084)\n",
       "33    POINT (-86.89242 36.27139)\n",
       "34    POINT (-86.99584 36.11958)\n",
       "35    POINT (-86.78899 36.14860)\n",
       "36    POINT (-86.77702 36.16557)\n",
       "37    POINT (-86.66271 36.16744)\n",
       "38    POINT (-86.94712 36.24580)\n",
       "39    POINT (-86.80250 36.14688)\n",
       "40    POINT (-86.80805 36.17736)\n",
       "41    POINT (-86.57718 36.18867)\n",
       "42    POINT (-86.77677 36.23245)\n",
       "43    POINT (-86.68156 35.99059)\n",
       "44    POINT (-86.83435 36.08232)\n",
       "45    POINT (-86.80400 36.19479)\n",
       "46    POINT (-86.58400 36.14525)\n",
       "47    POINT (-86.73347 36.14429)\n",
       "48    POINT (-87.03606 36.09576)\n",
       "49    POINT (-86.72308 36.06711)\n",
       "50    POINT (-86.60543 36.01826)\n",
       "51    POINT (-86.63636 36.04177)\n",
       "52    POINT (-86.73198 36.01007)\n",
       "53    POINT (-86.78161 36.06685)\n",
       "54    POINT (-86.56571 36.14415)\n",
       "55    POINT (-86.75978 36.39850)\n",
       "dtype: geometry"
      ]
     },
     "execution_count": 37,
     "metadata": {},
     "output_type": "execute_result"
    }
   ],
   "source": [
    "zipcodes.geometry.centroid"
   ]
  },
  {
   "cell_type": "code",
   "execution_count": 38,
   "metadata": {},
   "outputs": [
    {
     "name": "stderr",
     "output_type": "stream",
     "text": [
      "<ipython-input-38-223c566861c1>:1: UserWarning: Geometry is in a geographic CRS. Results from 'centroid' are likely incorrect. Use 'GeoSeries.to_crs()' to re-project geometries to a projected CRS before this operation.\n",
      "\n",
      "  center = zipcodes.geometry.centroid[24]\n"
     ]
    }
   ],
   "source": [
    "center = zipcodes.geometry.centroid[24]"
   ]
  },
  {
   "cell_type": "code",
   "execution_count": 39,
   "metadata": {},
   "outputs": [],
   "source": [
    "area_center = [center.y, center.x]"
   ]
  },
  {
   "cell_type": "code",
   "execution_count": 40,
   "metadata": {},
   "outputs": [
    {
     "data": {
      "text/html": [
       "<div style=\"width:100%;\"><div style=\"position:relative;width:100%;height:0;padding-bottom:60%;\"><span style=\"color:#565656\">Make this Notebook Trusted to load map: File -> Trust Notebook</span><iframe src=\"about:blank\" style=\"position:absolute;width:100%;height:100%;left:0;top:0;border:none !important;\" data-html=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 onload=\"this.contentDocument.open();this.contentDocument.write(atob(this.getAttribute('data-html')));this.contentDocument.close();\" allowfullscreen webkitallowfullscreen mozallowfullscreen></iframe></div></div>"
      ],
      "text/plain": [
       "<folium.folium.Map at 0x142cf29ddc0>"
      ]
     },
     "execution_count": 40,
     "metadata": {},
     "output_type": "execute_result"
    }
   ],
   "source": [
    "map_nash = folium.Map(location =  area_center, zoom_start = 12)\n",
    "map_nash"
   ]
  },
  {
   "cell_type": "code",
   "execution_count": 41,
   "metadata": {},
   "outputs": [],
   "source": [
    "t9_geo_drop = t9_geo.dropna()"
   ]
  },
  {
   "cell_type": "code",
   "execution_count": 42,
   "metadata": {},
   "outputs": [
    {
     "data": {
      "text/html": [
       "<div style=\"width:100%;\"><div style=\"position:relative;width:100%;height:0;padding-bottom:60%;\"><span style=\"color:#565656\">Make this Notebook Trusted to load map: File -> Trust Notebook</span><iframe src=\"about:blank\" style=\"position:absolute;width:100%;height:100%;left:0;top:0;border:none !important;\" data-html=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 onload=\"this.contentDocument.open();this.contentDocument.write(atob(this.getAttribute('data-html')));this.contentDocument.close();\" allowfullscreen webkitallowfullscreen mozallowfullscreen></iframe></div></div>"
      ],
      "text/plain": [
       "<folium.folium.Map at 0x142cf29ddc0>"
      ]
     },
     "execution_count": 42,
     "metadata": {},
     "output_type": "execute_result"
    }
   ],
   "source": [
    "locations = t9_geo_drop[['Latitude', 'Longitude']].values.tolist()\n",
    "map_nash.add_child(\n",
    "    FastMarkerCluster(locations)\n",
    ")"
   ]
  },
  {
   "cell_type": "code",
   "execution_count": 43,
   "metadata": {
    "scrolled": true
   },
   "outputs": [
    {
     "data": {
      "text/html": [
       "<div>\n",
       "<style scoped>\n",
       "    .dataframe tbody tr th:only-of-type {\n",
       "        vertical-align: middle;\n",
       "    }\n",
       "\n",
       "    .dataframe tbody tr th {\n",
       "        vertical-align: top;\n",
       "    }\n",
       "\n",
       "    .dataframe thead th {\n",
       "        text-align: right;\n",
       "    }\n",
       "</style>\n",
       "<table border=\"1\" class=\"dataframe\">\n",
       "  <thead>\n",
       "    <tr style=\"text-align: right;\">\n",
       "      <th></th>\n",
       "      <th>DateTime</th>\n",
       "      <th>CallTypeId</th>\n",
       "      <th>Latitude</th>\n",
       "      <th>Longitude</th>\n",
       "      <th>CellTowerAddress</th>\n",
       "      <th>geometry</th>\n",
       "    </tr>\n",
       "  </thead>\n",
       "  <tbody>\n",
       "    <tr>\n",
       "      <th>0</th>\n",
       "      <td>3/3/2020 0:34</td>\n",
       "      <td>911 Calls</td>\n",
       "      <td>36.072708</td>\n",
       "      <td>-86.665779</td>\n",
       "      <td>620 Richards RD - N Sector</td>\n",
       "      <td>POINT (-86.66578 36.07271)</td>\n",
       "    </tr>\n",
       "    <tr>\n",
       "      <th>1</th>\n",
       "      <td>3/3/2020 0:36</td>\n",
       "      <td>911 Calls</td>\n",
       "      <td>36.159634</td>\n",
       "      <td>-86.841904</td>\n",
       "      <td>4507D KENTUCKY AV - SE</td>\n",
       "      <td>POINT (-86.84190 36.15963)</td>\n",
       "    </tr>\n",
       "    <tr>\n",
       "      <th>2</th>\n",
       "      <td>3/3/2020 0:36</td>\n",
       "      <td>911 Calls</td>\n",
       "      <td>36.264153</td>\n",
       "      <td>-86.708862</td>\n",
       "      <td>329 THELMA ST - S Sector</td>\n",
       "      <td>POINT (-86.70886 36.26415)</td>\n",
       "    </tr>\n",
       "    <tr>\n",
       "      <th>3</th>\n",
       "      <td>3/3/2020 0:36</td>\n",
       "      <td>911 Calls</td>\n",
       "      <td>NaN</td>\n",
       "      <td>NaN</td>\n",
       "      <td>526 FOUNDRY DR</td>\n",
       "      <td>POINT (nan nan)</td>\n",
       "    </tr>\n",
       "    <tr>\n",
       "      <th>4</th>\n",
       "      <td>3/3/2020 0:36</td>\n",
       "      <td>911 Calls</td>\n",
       "      <td>36.233467</td>\n",
       "      <td>-86.721077</td>\n",
       "      <td>5007B RUSKIN AVE - N</td>\n",
       "      <td>POINT (-86.72108 36.23347)</td>\n",
       "    </tr>\n",
       "  </tbody>\n",
       "</table>\n",
       "</div>"
      ],
      "text/plain": [
       "        DateTime CallTypeId   Latitude  Longitude            CellTowerAddress  \\\n",
       "0  3/3/2020 0:34  911 Calls  36.072708 -86.665779  620 Richards RD - N Sector   \n",
       "1  3/3/2020 0:36  911 Calls  36.159634 -86.841904      4507D KENTUCKY AV - SE   \n",
       "2  3/3/2020 0:36  911 Calls  36.264153 -86.708862    329 THELMA ST - S Sector   \n",
       "3  3/3/2020 0:36  911 Calls        NaN        NaN              526 FOUNDRY DR   \n",
       "4  3/3/2020 0:36  911 Calls  36.233467 -86.721077        5007B RUSKIN AVE - N   \n",
       "\n",
       "                     geometry  \n",
       "0  POINT (-86.66578 36.07271)  \n",
       "1  POINT (-86.84190 36.15963)  \n",
       "2  POINT (-86.70886 36.26415)  \n",
       "3             POINT (nan nan)  \n",
       "4  POINT (-86.72108 36.23347)  "
      ]
     },
     "execution_count": 43,
     "metadata": {},
     "output_type": "execute_result"
    }
   ],
   "source": [
    "t9_geo.head()"
   ]
  },
  {
   "cell_type": "code",
   "execution_count": 44,
   "metadata": {
    "scrolled": true
   },
   "outputs": [
    {
     "data": {
      "text/html": [
       "<div style=\"width:100%;\"><div style=\"position:relative;width:100%;height:0;padding-bottom:60%;\"><span style=\"color:#565656\">Make this Notebook Trusted to load map: File -> Trust Notebook</span><iframe src=\"about:blank\" style=\"position:absolute;width:100%;height:100%;left:0;top:0;border:none !important;\" data-html=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 onload=\"this.contentDocument.open();this.contentDocument.write(atob(this.getAttribute('data-html')));this.contentDocument.close();\" allowfullscreen webkitallowfullscreen mozallowfullscreen></iframe></div></div>"
      ],
      "text/plain": [
       "<folium.folium.Map at 0x142cf4d18b0>"
      ]
     },
     "execution_count": 44,
     "metadata": {},
     "output_type": "execute_result"
    }
   ],
   "source": [
    "map_derecho = folium.Map(location =  area_center, zoom_start = 12)\n",
    "map_derecho"
   ]
  },
  {
   "cell_type": "code",
   "execution_count": 45,
   "metadata": {},
   "outputs": [
    {
     "data": {
      "text/html": [
       "<div style=\"width:100%;\"><div style=\"position:relative;width:100%;height:0;padding-bottom:60%;\"><span style=\"color:#565656\">Make this Notebook Trusted to load map: File -> Trust Notebook</span><iframe src=\"about:blank\" style=\"position:absolute;width:100%;height:100%;left:0;top:0;border:none !important;\" data-html=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 onload=\"this.contentDocument.open();this.contentDocument.write(atob(this.getAttribute('data-html')));this.contentDocument.close();\" allowfullscreen webkitallowfullscreen mozallowfullscreen></iframe></div></div>"
      ],
      "text/plain": [
       "<folium.folium.Map at 0x142cf29ddc0>"
      ]
     },
     "execution_count": 45,
     "metadata": {},
     "output_type": "execute_result"
    }
   ],
   "source": [
    "d9_geo_drop = d9_geo.dropna()\n",
    "locations2 = d9_geo_drop[['Latitude', 'Longitude']].values.tolist()\n",
    "map_nash.add_child(\n",
    "    FastMarkerCluster(locations2)\n",
    ")"
   ]
  }
 ],
 "metadata": {
  "kernelspec": {
   "display_name": "Python 3",
   "language": "python",
   "name": "python3"
  },
  "language_info": {
   "codemirror_mode": {
    "name": "ipython",
    "version": 3
   },
   "file_extension": ".py",
   "mimetype": "text/x-python",
   "name": "python",
   "nbconvert_exporter": "python",
   "pygments_lexer": "ipython3",
   "version": "3.8.5"
  }
 },
 "nbformat": 4,
 "nbformat_minor": 2
}
