{
 "cells": [
  {
   "cell_type": "code",
   "execution_count": 1,
   "metadata": {},
   "outputs": [],
   "source": [
    "from shapely.geometry import Point\n",
    "import pandas as pd\n",
    "import numpy as np\n",
    "import seaborn as sns\n",
    "import geopandas as gpd\n",
    "import matplotlib.pyplot as plt\n",
    "import folium\n",
    "from folium.plugins import MarkerCluster\n",
    "from folium.plugins import FastMarkerCluster"
   ]
  },
  {
   "cell_type": "code",
   "execution_count": 2,
   "metadata": {},
   "outputs": [],
   "source": [
    "%matplotlib inline"
   ]
  },
  {
   "cell_type": "code",
   "execution_count": 3,
   "metadata": {},
   "outputs": [],
   "source": [
    "derecho_911 = pd.read_csv(\"../data/911_Phone Calls_Derecho_050320 050420.csv\")\n",
    "tornado_911 = pd.read_csv(\"../data/911_Phone_Calls_Tornado_030320.csv\")\n",
    "disp_derecho = pd.read_csv(\"../data/Computer Aided Dispatch Data_Derecho Incidents 050320-050420.csv\",skiprows=2)\n",
    "disp_tornado = pd.read_csv(\"../data/Computer Aided Dispatch Data_Tornado Incidents 030320.csv\",skiprows=3)\n",
    "sfamily2017 = pd.read_csv(\"../data/2017 single family_final_with_sqft.csv\")\n",
    "zipcodes = gpd.read_file('../data/zipcodes.geojson')"
   ]
  },
  {
   "cell_type": "code",
   "execution_count": 4,
   "metadata": {},
   "outputs": [],
   "source": [
    "derecho_911.columns =['DateTime', 'CallTypeId', 'Latitude', 'Longitude', 'CellTowerAddress']\n",
    "tornado_911.columns =['DateTime', 'CallTypeId', 'Latitude', 'Longitude', 'CellTowerAddress']\n",
    "disp_derecho.columns =['DateTime', 'Location', 'Latitude', 'Longitude', 'IncidentTypeDescription']\n",
    "disp_tornado.columns =['DateTime', 'Location', 'Latitude', 'Longitude', 'IncidentTypeDescription']\n",
    "sfamily2017.columns =['Parcel','Currency','District','Street','City','zip','2017land','2017improve','2017tot_appr','2017tot_assd','Area']"
   ]
  },
  {
   "cell_type": "code",
   "execution_count": 5,
   "metadata": {},
   "outputs": [
    {
     "data": {
      "text/html": [
       "<div>\n",
       "<style scoped>\n",
       "    .dataframe tbody tr th:only-of-type {\n",
       "        vertical-align: middle;\n",
       "    }\n",
       "\n",
       "    .dataframe tbody tr th {\n",
       "        vertical-align: top;\n",
       "    }\n",
       "\n",
       "    .dataframe thead th {\n",
       "        text-align: right;\n",
       "    }\n",
       "</style>\n",
       "<table border=\"1\" class=\"dataframe\">\n",
       "  <thead>\n",
       "    <tr style=\"text-align: right;\">\n",
       "      <th></th>\n",
       "      <th>DateTime</th>\n",
       "      <th>Location</th>\n",
       "      <th>Latitude</th>\n",
       "      <th>Longitude</th>\n",
       "      <th>IncidentTypeDescription</th>\n",
       "    </tr>\n",
       "  </thead>\n",
       "  <tbody>\n",
       "    <tr>\n",
       "      <th>622</th>\n",
       "      <td>5/4/2020 12:21:00 AM</td>\n",
       "      <td>625 BENTON AV</td>\n",
       "      <td>36.131384</td>\n",
       "      <td>-86.770628</td>\n",
       "      <td>HIGH RISE NATURAL GAS ODOR</td>\n",
       "    </tr>\n",
       "    <tr>\n",
       "      <th>623</th>\n",
       "      <td>5/4/2020 12:21:32 AM</td>\n",
       "      <td>518 BRENTLAWN DR</td>\n",
       "      <td>36.064362</td>\n",
       "      <td>-86.761199</td>\n",
       "      <td>UNKNOWN STATUS</td>\n",
       "    </tr>\n",
       "    <tr>\n",
       "      <th>624</th>\n",
       "      <td>5/4/2020 12:22:47 AM</td>\n",
       "      <td>517 ALBANY DR</td>\n",
       "      <td>36.212754</td>\n",
       "      <td>-86.600431</td>\n",
       "      <td>ELECTRICAL HAZARD</td>\n",
       "    </tr>\n",
       "    <tr>\n",
       "      <th>625</th>\n",
       "      <td>5/4/2020 12:27:52 AM</td>\n",
       "      <td>639 LAFAYETTE ST</td>\n",
       "      <td>36.153769</td>\n",
       "      <td>-86.777520</td>\n",
       "      <td>SICK PERSON: NO PRIORITY SYMPTOMS</td>\n",
       "    </tr>\n",
       "    <tr>\n",
       "      <th>626</th>\n",
       "      <td>5/4/2020 12:29:50 AM</td>\n",
       "      <td>2011 HAYES ST</td>\n",
       "      <td>36.151839</td>\n",
       "      <td>-86.800791</td>\n",
       "      <td>PULL STATION ALARM COMMERCIAL   INDUSTRIAL BUILD</td>\n",
       "    </tr>\n",
       "  </tbody>\n",
       "</table>\n",
       "</div>"
      ],
      "text/plain": [
       "                 DateTime          Location   Latitude  Longitude  \\\n",
       "622  5/4/2020 12:21:00 AM     625 BENTON AV  36.131384 -86.770628   \n",
       "623  5/4/2020 12:21:32 AM  518 BRENTLAWN DR  36.064362 -86.761199   \n",
       "624  5/4/2020 12:22:47 AM     517 ALBANY DR  36.212754 -86.600431   \n",
       "625  5/4/2020 12:27:52 AM  639 LAFAYETTE ST  36.153769 -86.777520   \n",
       "626  5/4/2020 12:29:50 AM    2011 HAYES ST   36.151839 -86.800791   \n",
       "\n",
       "                              IncidentTypeDescription  \n",
       "622                        HIGH RISE NATURAL GAS ODOR  \n",
       "623                                    UNKNOWN STATUS  \n",
       "624                                 ELECTRICAL HAZARD  \n",
       "625                 SICK PERSON: NO PRIORITY SYMPTOMS  \n",
       "626  PULL STATION ALARM COMMERCIAL   INDUSTRIAL BUILD  "
      ]
     },
     "execution_count": 5,
     "metadata": {},
     "output_type": "execute_result"
    }
   ],
   "source": [
    "disp_derecho.tail()"
   ]
  },
  {
   "cell_type": "code",
   "execution_count": 6,
   "metadata": {},
   "outputs": [
    {
     "data": {
      "text/html": [
       "<div>\n",
       "<style scoped>\n",
       "    .dataframe tbody tr th:only-of-type {\n",
       "        vertical-align: middle;\n",
       "    }\n",
       "\n",
       "    .dataframe tbody tr th {\n",
       "        vertical-align: top;\n",
       "    }\n",
       "\n",
       "    .dataframe thead th {\n",
       "        text-align: right;\n",
       "    }\n",
       "</style>\n",
       "<table border=\"1\" class=\"dataframe\">\n",
       "  <thead>\n",
       "    <tr style=\"text-align: right;\">\n",
       "      <th></th>\n",
       "      <th>DateTime</th>\n",
       "      <th>Location</th>\n",
       "      <th>Latitude</th>\n",
       "      <th>Longitude</th>\n",
       "      <th>IncidentTypeDescription</th>\n",
       "    </tr>\n",
       "  </thead>\n",
       "  <tbody>\n",
       "    <tr>\n",
       "      <th>0</th>\n",
       "      <td>3/3/2020 12:36:34 AM</td>\n",
       "      <td>6205 COCKRILL BEND CIR</td>\n",
       "      <td>36.182002</td>\n",
       "      <td>-86.894052</td>\n",
       "      <td>GENERAL ALARM COMMERCIAL   INDUSTRIAL BUILD</td>\n",
       "    </tr>\n",
       "    <tr>\n",
       "      <th>1</th>\n",
       "      <td>3/3/2020 12:37:24 AM</td>\n",
       "      <td>7337 COCKRILL BEND BLVD</td>\n",
       "      <td>36.175666</td>\n",
       "      <td>-86.894978</td>\n",
       "      <td>GENERAL ALARM COMMERCIAL   INDUSTRIAL BUILD</td>\n",
       "    </tr>\n",
       "    <tr>\n",
       "      <th>2</th>\n",
       "      <td>3/3/2020 12:38:17 AM</td>\n",
       "      <td>110 TUNE AIRPORT DR</td>\n",
       "      <td>36.179299</td>\n",
       "      <td>-86.883727</td>\n",
       "      <td>STRUCTURE FIRE COMMERCIAL   INDUSTRIAL</td>\n",
       "    </tr>\n",
       "    <tr>\n",
       "      <th>3</th>\n",
       "      <td>3/3/2020 12:39:40 AM</td>\n",
       "      <td>555 MARRIOTT DR</td>\n",
       "      <td>36.151108</td>\n",
       "      <td>-86.689921</td>\n",
       "      <td>GENERAL ALARM COMMERCIAL   INDUSTRIAL BUILD</td>\n",
       "    </tr>\n",
       "    <tr>\n",
       "      <th>4</th>\n",
       "      <td>3/3/2020 12:39:42 AM</td>\n",
       "      <td>1414 COUNTY HOSPITAL RD</td>\n",
       "      <td>36.177926</td>\n",
       "      <td>-86.845934</td>\n",
       "      <td>GENERAL ALARM COMMERCIAL   INDUSTRIAL BUILD</td>\n",
       "    </tr>\n",
       "  </tbody>\n",
       "</table>\n",
       "</div>"
      ],
      "text/plain": [
       "               DateTime                  Location   Latitude  Longitude  \\\n",
       "0  3/3/2020 12:36:34 AM   6205 COCKRILL BEND CIR   36.182002 -86.894052   \n",
       "1  3/3/2020 12:37:24 AM  7337 COCKRILL BEND BLVD   36.175666 -86.894978   \n",
       "2  3/3/2020 12:38:17 AM      110 TUNE AIRPORT DR   36.179299 -86.883727   \n",
       "3  3/3/2020 12:39:40 AM          555 MARRIOTT DR   36.151108 -86.689921   \n",
       "4  3/3/2020 12:39:42 AM  1414 COUNTY HOSPITAL RD   36.177926 -86.845934   \n",
       "\n",
       "                       IncidentTypeDescription  \n",
       "0  GENERAL ALARM COMMERCIAL   INDUSTRIAL BUILD  \n",
       "1  GENERAL ALARM COMMERCIAL   INDUSTRIAL BUILD  \n",
       "2       STRUCTURE FIRE COMMERCIAL   INDUSTRIAL  \n",
       "3  GENERAL ALARM COMMERCIAL   INDUSTRIAL BUILD  \n",
       "4  GENERAL ALARM COMMERCIAL   INDUSTRIAL BUILD  "
      ]
     },
     "execution_count": 6,
     "metadata": {},
     "output_type": "execute_result"
    }
   ],
   "source": [
    "disp_tornado.head()"
   ]
  },
  {
   "cell_type": "code",
   "execution_count": 7,
   "metadata": {},
   "outputs": [
    {
     "data": {
      "text/plain": [
       "GENERAL ALARM COMMERCIAL   INDUSTRIAL BUILD    27\n",
       "OUTSIDE ODOR                                   26\n",
       "WIRES DOWN WITH NO SMOKE OR ARCING             17\n",
       "SMALL BUILDING INVESTIGATION                   15\n",
       "ELECTRICAL HAZARD WITH OR NEAR WATER           12\n",
       "                                               ..\n",
       "MVA INJURIES:                                   1\n",
       "ENTRAPMENT UNCONFIRMED  PERIPHERAL              1\n",
       "HOUSE FIRE                                      1\n",
       "APARTMENT NATURAL GAS LEAK                      1\n",
       "CONFINED SPACE ENTRAPMENT  CONFIRMED            1\n",
       "Name: IncidentTypeDescription, Length: 90, dtype: int64"
      ]
     },
     "execution_count": 7,
     "metadata": {},
     "output_type": "execute_result"
    }
   ],
   "source": [
    "disp_tornado['IncidentTypeDescription'].value_counts()"
   ]
  },
  {
   "cell_type": "code",
   "execution_count": 8,
   "metadata": {},
   "outputs": [
    {
     "data": {
      "text/html": [
       "<div>\n",
       "<style scoped>\n",
       "    .dataframe tbody tr th:only-of-type {\n",
       "        vertical-align: middle;\n",
       "    }\n",
       "\n",
       "    .dataframe tbody tr th {\n",
       "        vertical-align: top;\n",
       "    }\n",
       "\n",
       "    .dataframe thead th {\n",
       "        text-align: right;\n",
       "    }\n",
       "</style>\n",
       "<table border=\"1\" class=\"dataframe\">\n",
       "  <thead>\n",
       "    <tr style=\"text-align: right;\">\n",
       "      <th></th>\n",
       "      <th>DateTime</th>\n",
       "      <th>CallTypeId</th>\n",
       "      <th>Latitude</th>\n",
       "      <th>Longitude</th>\n",
       "      <th>CellTowerAddress</th>\n",
       "    </tr>\n",
       "  </thead>\n",
       "  <tbody>\n",
       "    <tr>\n",
       "      <th>0</th>\n",
       "      <td>5/3/2020 16:30</td>\n",
       "      <td>911 Calls</td>\n",
       "      <td>36.247802</td>\n",
       "      <td>-86.716847</td>\n",
       "      <td>WIRELESS CALLER</td>\n",
       "    </tr>\n",
       "    <tr>\n",
       "      <th>1</th>\n",
       "      <td>5/3/2020 16:30</td>\n",
       "      <td>911 Calls</td>\n",
       "      <td>36.143108</td>\n",
       "      <td>-86.800621</td>\n",
       "      <td>1161 21ST AV S - SE</td>\n",
       "    </tr>\n",
       "    <tr>\n",
       "      <th>2</th>\n",
       "      <td>5/3/2020 16:30</td>\n",
       "      <td>911 Calls</td>\n",
       "      <td>36.100516</td>\n",
       "      <td>-87.056329</td>\n",
       "      <td>8013 C MCCRORY LN - N</td>\n",
       "    </tr>\n",
       "    <tr>\n",
       "      <th>3</th>\n",
       "      <td>5/3/2020 16:30</td>\n",
       "      <td>911 Calls</td>\n",
       "      <td>36.130021</td>\n",
       "      <td>-86.927819</td>\n",
       "      <td>5758 RIVER RD - SW</td>\n",
       "    </tr>\n",
       "    <tr>\n",
       "      <th>4</th>\n",
       "      <td>5/3/2020 16:31</td>\n",
       "      <td>911 Calls</td>\n",
       "      <td>36.142380</td>\n",
       "      <td>-86.881882</td>\n",
       "      <td>3744B ANNEX AVE - SE</td>\n",
       "    </tr>\n",
       "  </tbody>\n",
       "</table>\n",
       "</div>"
      ],
      "text/plain": [
       "         DateTime CallTypeId   Latitude  Longitude       CellTowerAddress\n",
       "0  5/3/2020 16:30  911 Calls  36.247802 -86.716847        WIRELESS CALLER\n",
       "1  5/3/2020 16:30  911 Calls  36.143108 -86.800621    1161 21ST AV S - SE\n",
       "2  5/3/2020 16:30  911 Calls  36.100516 -87.056329  8013 C MCCRORY LN - N\n",
       "3  5/3/2020 16:30  911 Calls  36.130021 -86.927819     5758 RIVER RD - SW\n",
       "4  5/3/2020 16:31  911 Calls  36.142380 -86.881882   3744B ANNEX AVE - SE"
      ]
     },
     "execution_count": 8,
     "metadata": {},
     "output_type": "execute_result"
    }
   ],
   "source": [
    "derecho_911.head()"
   ]
  },
  {
   "cell_type": "code",
   "execution_count": 9,
   "metadata": {},
   "outputs": [
    {
     "data": {
      "text/html": [
       "<div>\n",
       "<style scoped>\n",
       "    .dataframe tbody tr th:only-of-type {\n",
       "        vertical-align: middle;\n",
       "    }\n",
       "\n",
       "    .dataframe tbody tr th {\n",
       "        vertical-align: top;\n",
       "    }\n",
       "\n",
       "    .dataframe thead th {\n",
       "        text-align: right;\n",
       "    }\n",
       "</style>\n",
       "<table border=\"1\" class=\"dataframe\">\n",
       "  <thead>\n",
       "    <tr style=\"text-align: right;\">\n",
       "      <th></th>\n",
       "      <th>DateTime</th>\n",
       "      <th>CallTypeId</th>\n",
       "      <th>Latitude</th>\n",
       "      <th>Longitude</th>\n",
       "      <th>CellTowerAddress</th>\n",
       "    </tr>\n",
       "  </thead>\n",
       "  <tbody>\n",
       "    <tr>\n",
       "      <th>0</th>\n",
       "      <td>3/3/2020 0:34</td>\n",
       "      <td>911 Calls</td>\n",
       "      <td>36.072708</td>\n",
       "      <td>-86.665779</td>\n",
       "      <td>620 Richards RD - N Sector</td>\n",
       "    </tr>\n",
       "    <tr>\n",
       "      <th>1</th>\n",
       "      <td>3/3/2020 0:36</td>\n",
       "      <td>911 Calls</td>\n",
       "      <td>36.159634</td>\n",
       "      <td>-86.841904</td>\n",
       "      <td>4507D KENTUCKY AV - SE</td>\n",
       "    </tr>\n",
       "    <tr>\n",
       "      <th>2</th>\n",
       "      <td>3/3/2020 0:36</td>\n",
       "      <td>911 Calls</td>\n",
       "      <td>36.264153</td>\n",
       "      <td>-86.708862</td>\n",
       "      <td>329 THELMA ST - S Sector</td>\n",
       "    </tr>\n",
       "    <tr>\n",
       "      <th>3</th>\n",
       "      <td>3/3/2020 0:36</td>\n",
       "      <td>911 Calls</td>\n",
       "      <td>NaN</td>\n",
       "      <td>NaN</td>\n",
       "      <td>526 FOUNDRY DR</td>\n",
       "    </tr>\n",
       "    <tr>\n",
       "      <th>4</th>\n",
       "      <td>3/3/2020 0:36</td>\n",
       "      <td>911 Calls</td>\n",
       "      <td>36.233467</td>\n",
       "      <td>-86.721077</td>\n",
       "      <td>5007B RUSKIN AVE - N</td>\n",
       "    </tr>\n",
       "  </tbody>\n",
       "</table>\n",
       "</div>"
      ],
      "text/plain": [
       "        DateTime CallTypeId   Latitude  Longitude            CellTowerAddress\n",
       "0  3/3/2020 0:34  911 Calls  36.072708 -86.665779  620 Richards RD - N Sector\n",
       "1  3/3/2020 0:36  911 Calls  36.159634 -86.841904      4507D KENTUCKY AV - SE\n",
       "2  3/3/2020 0:36  911 Calls  36.264153 -86.708862    329 THELMA ST - S Sector\n",
       "3  3/3/2020 0:36  911 Calls        NaN        NaN              526 FOUNDRY DR\n",
       "4  3/3/2020 0:36  911 Calls  36.233467 -86.721077        5007B RUSKIN AVE - N"
      ]
     },
     "execution_count": 9,
     "metadata": {},
     "output_type": "execute_result"
    }
   ],
   "source": [
    "tornado_911.head()"
   ]
  },
  {
   "cell_type": "code",
   "execution_count": 10,
   "metadata": {},
   "outputs": [
    {
     "data": {
      "text/plain": [
       "DateTime             object\n",
       "CallTypeId           object\n",
       "Latitude            float64\n",
       "Longitude           float64\n",
       "CellTowerAddress     object\n",
       "dtype: object"
      ]
     },
     "execution_count": 10,
     "metadata": {},
     "output_type": "execute_result"
    }
   ],
   "source": [
    "tornado_911.dtypes"
   ]
  },
  {
   "cell_type": "code",
   "execution_count": 11,
   "metadata": {},
   "outputs": [
    {
     "data": {
      "text/html": [
       "<div>\n",
       "<style scoped>\n",
       "    .dataframe tbody tr th:only-of-type {\n",
       "        vertical-align: middle;\n",
       "    }\n",
       "\n",
       "    .dataframe tbody tr th {\n",
       "        vertical-align: top;\n",
       "    }\n",
       "\n",
       "    .dataframe thead th {\n",
       "        text-align: right;\n",
       "    }\n",
       "</style>\n",
       "<table border=\"1\" class=\"dataframe\">\n",
       "  <thead>\n",
       "    <tr style=\"text-align: right;\">\n",
       "      <th></th>\n",
       "      <th>zip</th>\n",
       "      <th>objectid</th>\n",
       "      <th>po_name</th>\n",
       "      <th>shape_stlength</th>\n",
       "      <th>shape_starea</th>\n",
       "      <th>geometry</th>\n",
       "    </tr>\n",
       "  </thead>\n",
       "  <tbody>\n",
       "    <tr>\n",
       "      <th>0</th>\n",
       "      <td>37115</td>\n",
       "      <td>1</td>\n",
       "      <td>MADISON</td>\n",
       "      <td>178783.02488886821</td>\n",
       "      <td>596553400.57885742</td>\n",
       "      <td>MULTIPOLYGON (((-86.68725 36.31821, -86.68722 ...</td>\n",
       "    </tr>\n",
       "    <tr>\n",
       "      <th>1</th>\n",
       "      <td>37216</td>\n",
       "      <td>3</td>\n",
       "      <td>NASHVILLE</td>\n",
       "      <td>75820.997821400058</td>\n",
       "      <td>188884682.28344727</td>\n",
       "      <td>MULTIPOLYGON (((-86.73451 36.23774, -86.73425 ...</td>\n",
       "    </tr>\n",
       "    <tr>\n",
       "      <th>2</th>\n",
       "      <td>37204</td>\n",
       "      <td>9</td>\n",
       "      <td>NASHVILLE</td>\n",
       "      <td>93180.292250425613</td>\n",
       "      <td>200664795.51708984</td>\n",
       "      <td>MULTIPOLYGON (((-86.77914 36.13424, -86.77923 ...</td>\n",
       "    </tr>\n",
       "    <tr>\n",
       "      <th>3</th>\n",
       "      <td>37027</td>\n",
       "      <td>11</td>\n",
       "      <td>BRENTWOOD</td>\n",
       "      <td>159760.6942933173</td>\n",
       "      <td>174978422.04101562</td>\n",
       "      <td>MULTIPOLYGON (((-86.81258 36.06319, -86.81263 ...</td>\n",
       "    </tr>\n",
       "    <tr>\n",
       "      <th>4</th>\n",
       "      <td>37064</td>\n",
       "      <td>18</td>\n",
       "      <td>FRANKLIN</td>\n",
       "      <td>28995.828320601937</td>\n",
       "      <td>46969608.005737305</td>\n",
       "      <td>MULTIPOLYGON (((-87.02197 36.01200, -87.02140 ...</td>\n",
       "    </tr>\n",
       "  </tbody>\n",
       "</table>\n",
       "</div>"
      ],
      "text/plain": [
       "     zip objectid    po_name      shape_stlength        shape_starea  \\\n",
       "0  37115        1    MADISON  178783.02488886821  596553400.57885742   \n",
       "1  37216        3  NASHVILLE  75820.997821400058  188884682.28344727   \n",
       "2  37204        9  NASHVILLE  93180.292250425613  200664795.51708984   \n",
       "3  37027       11  BRENTWOOD   159760.6942933173  174978422.04101562   \n",
       "4  37064       18   FRANKLIN  28995.828320601937  46969608.005737305   \n",
       "\n",
       "                                            geometry  \n",
       "0  MULTIPOLYGON (((-86.68725 36.31821, -86.68722 ...  \n",
       "1  MULTIPOLYGON (((-86.73451 36.23774, -86.73425 ...  \n",
       "2  MULTIPOLYGON (((-86.77914 36.13424, -86.77923 ...  \n",
       "3  MULTIPOLYGON (((-86.81258 36.06319, -86.81263 ...  \n",
       "4  MULTIPOLYGON (((-87.02197 36.01200, -87.02140 ...  "
      ]
     },
     "execution_count": 11,
     "metadata": {},
     "output_type": "execute_result"
    }
   ],
   "source": [
    "zipcodes.head()"
   ]
  },
  {
   "cell_type": "code",
   "execution_count": 12,
   "metadata": {},
   "outputs": [
    {
     "data": {
      "text/html": [
       "<div>\n",
       "<style scoped>\n",
       "    .dataframe tbody tr th:only-of-type {\n",
       "        vertical-align: middle;\n",
       "    }\n",
       "\n",
       "    .dataframe tbody tr th {\n",
       "        vertical-align: top;\n",
       "    }\n",
       "\n",
       "    .dataframe thead th {\n",
       "        text-align: right;\n",
       "    }\n",
       "</style>\n",
       "<table border=\"1\" class=\"dataframe\">\n",
       "  <thead>\n",
       "    <tr style=\"text-align: right;\">\n",
       "      <th></th>\n",
       "      <th>DateTime</th>\n",
       "      <th>Location</th>\n",
       "      <th>Latitude</th>\n",
       "      <th>Longitude</th>\n",
       "      <th>IncidentTypeDescription</th>\n",
       "      <th>geometry</th>\n",
       "    </tr>\n",
       "  </thead>\n",
       "  <tbody>\n",
       "    <tr>\n",
       "      <th>0</th>\n",
       "      <td>3/3/2020 12:36:34 AM</td>\n",
       "      <td>6205 COCKRILL BEND CIR</td>\n",
       "      <td>36.182002</td>\n",
       "      <td>-86.894052</td>\n",
       "      <td>GENERAL ALARM COMMERCIAL   INDUSTRIAL BUILD</td>\n",
       "      <td>POINT (-86.89405212 36.18200191)</td>\n",
       "    </tr>\n",
       "    <tr>\n",
       "      <th>1</th>\n",
       "      <td>3/3/2020 12:37:24 AM</td>\n",
       "      <td>7337 COCKRILL BEND BLVD</td>\n",
       "      <td>36.175666</td>\n",
       "      <td>-86.894978</td>\n",
       "      <td>GENERAL ALARM COMMERCIAL   INDUSTRIAL BUILD</td>\n",
       "      <td>POINT (-86.89497756999999 36.175666)</td>\n",
       "    </tr>\n",
       "    <tr>\n",
       "      <th>2</th>\n",
       "      <td>3/3/2020 12:38:17 AM</td>\n",
       "      <td>110 TUNE AIRPORT DR</td>\n",
       "      <td>36.179299</td>\n",
       "      <td>-86.883727</td>\n",
       "      <td>STRUCTURE FIRE COMMERCIAL   INDUSTRIAL</td>\n",
       "      <td>POINT (-86.8837274 36.17929946)</td>\n",
       "    </tr>\n",
       "  </tbody>\n",
       "</table>\n",
       "</div>"
      ],
      "text/plain": [
       "               DateTime                  Location   Latitude  Longitude  \\\n",
       "0  3/3/2020 12:36:34 AM   6205 COCKRILL BEND CIR   36.182002 -86.894052   \n",
       "1  3/3/2020 12:37:24 AM  7337 COCKRILL BEND BLVD   36.175666 -86.894978   \n",
       "2  3/3/2020 12:38:17 AM      110 TUNE AIRPORT DR   36.179299 -86.883727   \n",
       "\n",
       "                       IncidentTypeDescription  \\\n",
       "0  GENERAL ALARM COMMERCIAL   INDUSTRIAL BUILD   \n",
       "1  GENERAL ALARM COMMERCIAL   INDUSTRIAL BUILD   \n",
       "2       STRUCTURE FIRE COMMERCIAL   INDUSTRIAL   \n",
       "\n",
       "                               geometry  \n",
       "0      POINT (-86.89405212 36.18200191)  \n",
       "1  POINT (-86.89497756999999 36.175666)  \n",
       "2       POINT (-86.8837274 36.17929946)  "
      ]
     },
     "execution_count": 12,
     "metadata": {},
     "output_type": "execute_result"
    }
   ],
   "source": [
    "disp_tornado['geometry'] = disp_tornado.apply(lambda x: Point((float(x.Longitude), \n",
    "                                                         float(x.Latitude))), \n",
    "                                        axis=1)\n",
    "disp_tornado.head(3)"
   ]
  },
  {
   "cell_type": "code",
   "execution_count": 13,
   "metadata": {},
   "outputs": [],
   "source": [
    "dt_geo = gpd.GeoDataFrame(disp_tornado, \n",
    "                           crs = zipcodes.crs, \n",
    "                           geometry = disp_tornado['geometry'])"
   ]
  },
  {
   "cell_type": "code",
   "execution_count": 14,
   "metadata": {},
   "outputs": [],
   "source": [
    "zipcodes = zipcodes[['zip', 'po_name', 'geometry']]"
   ]
  },
  {
   "cell_type": "code",
   "execution_count": 15,
   "metadata": {},
   "outputs": [],
   "source": [
    "dt_by_zip = gpd.sjoin(dt_geo, zipcodes, op = 'within')"
   ]
  },
  {
   "cell_type": "code",
   "execution_count": 46,
   "metadata": {},
   "outputs": [
    {
     "data": {
      "text/plain": [
       "37211    194\n",
       "37013    191\n",
       "37076    123\n",
       "37205    100\n",
       "37214     89\n",
       "37217     73\n",
       "37215     71\n",
       "37209     68\n",
       "37204     58\n",
       "37207     55\n",
       "37115     52\n",
       "37210     51\n",
       "37221     43\n",
       "37220     39\n",
       "37212     38\n",
       "37203     33\n",
       "37208     29\n",
       "37206     27\n",
       "37216     20\n",
       "37027     20\n",
       "37138     18\n",
       "37218     10\n",
       "37189      6\n",
       "37080      4\n",
       "37072      3\n",
       "37232      3\n",
       "37219      3\n",
       "37213      2\n",
       "37122      1\n",
       "37201      1\n",
       "Name: zip, dtype: int64"
      ]
     },
     "execution_count": 46,
     "metadata": {},
     "output_type": "execute_result"
    }
   ],
   "source": [
    "d9_by_zip['zip'].value_counts()"
   ]
  },
  {
   "cell_type": "code",
   "execution_count": 17,
   "metadata": {},
   "outputs": [],
   "source": [
    "tornado_911['geometry'] = tornado_911.apply(lambda x: Point((float(x.Longitude), \n",
    "                                                         float(x.Latitude))), \n",
    "                                        axis=1)\n",
    "derecho_911['geometry'] = derecho_911.apply(lambda x: Point((float(x.Longitude), \n",
    "                                                         float(x.Latitude))), \n",
    "                                        axis=1)\n",
    "disp_derecho['geometry'] = disp_derecho.apply(lambda x: Point((float(x.Longitude), \n",
    "                                                         float(x.Latitude))), \n",
    "                                        axis=1)"
   ]
  },
  {
   "cell_type": "code",
   "execution_count": 18,
   "metadata": {},
   "outputs": [],
   "source": [
    "t9_geo = gpd.GeoDataFrame(tornado_911, \n",
    "                           crs = zipcodes.crs, \n",
    "                           geometry = tornado_911['geometry'])\n",
    "d9_geo = gpd.GeoDataFrame(derecho_911, \n",
    "                           crs = zipcodes.crs, \n",
    "                           geometry = derecho_911['geometry'])\n",
    "dd_geo = gpd.GeoDataFrame(disp_derecho, \n",
    "                           crs = zipcodes.crs, \n",
    "                           geometry = disp_derecho['geometry'])"
   ]
  },
  {
   "cell_type": "code",
   "execution_count": 19,
   "metadata": {},
   "outputs": [],
   "source": [
    "t9_by_zip = gpd.sjoin(t9_geo, zipcodes, op = 'within')\n",
    "d9_by_zip = gpd.sjoin(d9_geo, zipcodes, op = 'within')\n",
    "dd_by_zip = gpd.sjoin(dd_geo, zipcodes, op = 'within')"
   ]
  },
  {
   "cell_type": "code",
   "execution_count": 20,
   "metadata": {
    "scrolled": true
   },
   "outputs": [
    {
     "data": {
      "text/plain": [
       "37206    90\n",
       "37208    80\n",
       "37076    56\n",
       "37214    32\n",
       "37207    30\n",
       "37209    24\n",
       "37013    17\n",
       "37203    14\n",
       "37115    12\n",
       "37201    12\n",
       "37219     9\n",
       "37210     8\n",
       "37217     7\n",
       "37189     7\n",
       "37213     6\n",
       "37211     5\n",
       "37215     4\n",
       "37216     3\n",
       "37221     3\n",
       "37072     3\n",
       "37138     2\n",
       "37212     2\n",
       "37205     2\n",
       "37218     2\n",
       "37204     1\n",
       "37080     1\n",
       "37232     1\n",
       "37228     1\n",
       "Name: zip, dtype: int64"
      ]
     },
     "execution_count": 20,
     "metadata": {},
     "output_type": "execute_result"
    }
   ],
   "source": [
    "t9_by_zip['zip'].value_counts()"
   ]
  },
  {
   "cell_type": "code",
   "execution_count": 21,
   "metadata": {
    "scrolled": false
   },
   "outputs": [
    {
     "name": "stdout",
     "output_type": "stream",
     "text": [
      "      zip   2017tot_appr\n",
      "0       0  136000.000000\n",
      "1   37013  175335.304304\n",
      "2   37015  170422.929936\n",
      "3   37027  392619.066426\n",
      "4   37064  433366.666667\n",
      "5   37072  205442.175486\n",
      "6   37076  200122.446072\n",
      "7   37080  218828.002656\n",
      "8   37086  272633.333333\n",
      "9   37115  155587.821103\n",
      "10  37122  319443.984962\n",
      "11  37135  287853.500000\n",
      "12  37138  221998.365867\n",
      "13  37143  221569.942197\n",
      "14  37189  207007.189015\n",
      "15  37201  347757.983193\n",
      "16  37203  378490.666667\n",
      "17  37204  519507.413841\n",
      "18  37205  674229.108548\n",
      "19  37206  306881.385714\n",
      "20  37207  163434.537887\n",
      "21  37208  207533.434256\n",
      "22  37209  269223.371097\n",
      "23  37210  161682.393729\n",
      "24  37211  209182.492458\n",
      "25  37212  474251.337608\n",
      "26  37214  186177.134090\n",
      "27  37215  666319.812540\n",
      "28  37216  251392.491027\n",
      "29  37217  151203.475742\n",
      "30  37218  159725.800454\n",
      "31  37219  295797.965116\n",
      "32  37220  585862.788062\n",
      "33  37221  270005.132525\n"
     ]
    }
   ],
   "source": [
    "sfamily2017=sfamily2017[['zip','2017tot_appr']]\n",
    "zipvalues = sfamily2017.groupby(['zip']).mean()\n",
    "zipvalues = zipvalues.reset_index()\n",
    "print(zipvalues)"
   ]
  },
  {
   "cell_type": "code",
   "execution_count": 22,
   "metadata": {
    "scrolled": true
   },
   "outputs": [
    {
     "name": "stdout",
     "output_type": "stream",
     "text": [
      "          DateTime CallTypeId   Latitude  Longitude  \\\n",
      "0    3/3/2020 0:34  911 Calls  36.072708 -86.665779   \n",
      "1    3/3/2020 0:38  911 Calls  36.052055 -86.648331   \n",
      "2    3/3/2020 0:53  911 Calls  36.050048 -86.650629   \n",
      "3    3/3/2020 1:29  911 Calls  36.068298 -86.681550   \n",
      "4    3/3/2020 1:40  911 Calls  36.058578 -86.699745   \n",
      "..             ...        ...        ...        ...   \n",
      "429  3/3/2020 4:25  911 Calls  36.190487 -86.833237   \n",
      "430  3/3/2020 1:34  911 Calls  36.308312 -86.720581   \n",
      "431  3/3/2020 2:10  911 Calls  36.311104 -86.707214   \n",
      "432  3/3/2020 2:12  911 Calls  36.311102 -86.707213   \n",
      "433  3/3/2020 1:39  911 Calls  36.189438 -86.799713   \n",
      "\n",
      "                         CellTowerAddress                    geometry  \\\n",
      "0              620 Richards RD - N Sector  POINT (-86.66578 36.07271)   \n",
      "1               745 BELL RD - OMNI Sector  POINT (-86.64833 36.05205)   \n",
      "2                     5646 AMALIE DR - SE  POINT (-86.65063 36.05005)   \n",
      "3           3930 APACHE TRAIL - SE SECTOR  POINT (-86.68155 36.06830)   \n",
      "4                    5067 COLEMONT DR - N  POINT (-86.69974 36.05858)   \n",
      "..                                    ...                         ...   \n",
      "429          2111 Summitt Ave - Sector SW  POINT (-86.83324 36.19049)   \n",
      "430      1000 S CARTWRIGHT ST - SECTOR SW  POINT (-86.72058 36.30831)   \n",
      "431              456 MOSS TRL - SE Sector  POINT (-86.70721 36.31110)   \n",
      "432                       WIRELESS CALLER  POINT (-86.70721 36.31110)   \n",
      "433  2025B METRO CENTER BLVD. - SW SECTOR  POINT (-86.79971 36.18944)   \n",
      "\n",
      "     index_right    zip         po_name   2017tot_appr  \n",
      "0             51  37013         ANTIOCH  175335.304304  \n",
      "1             51  37013         ANTIOCH  175335.304304  \n",
      "2             51  37013         ANTIOCH  175335.304304  \n",
      "3             51  37013         ANTIOCH  175335.304304  \n",
      "4             51  37013         ANTIOCH  175335.304304  \n",
      "..           ...    ...             ...            ...  \n",
      "429           27  37218       NASHVILLE  159725.800454  \n",
      "430            8  37072  GOODLETTSVILLE  205442.175486  \n",
      "431            8  37072  GOODLETTSVILLE  205442.175486  \n",
      "432            8  37072  GOODLETTSVILLE  205442.175486  \n",
      "433           45  37228       NASHVILLE            NaN  \n",
      "\n",
      "[434 rows x 10 columns]\n"
     ]
    }
   ],
   "source": [
    "t9_by_zip.zip = t9_by_zip.zip.astype(int)\n",
    "zipvalues.zip = zipvalues.zip.astype(int)\n",
    "t9_by_zip = t9_by_zip.merge(zipvalues,how='left',on='zip')\n",
    "print(t9_by_zip)"
   ]
  },
  {
   "cell_type": "code",
   "execution_count": 23,
   "metadata": {},
   "outputs": [],
   "source": [
    "d9_by_zip.zip = d9_by_zip.zip.astype(int)\n",
    "d9_by_zip = d9_by_zip.merge(zipvalues,how='left',on='zip')\n",
    "\n",
    "dt_by_zip.zip = dt_by_zip.zip.astype(int)\n",
    "dt_by_zip = dt_by_zip.merge(zipvalues,how='left',on='zip')\n",
    "\n",
    "dd_by_zip.zip = dd_by_zip.zip.astype(int)\n",
    "dd_by_zip = dd_by_zip.merge(zipvalues,how='left',on='zip')"
   ]
  },
  {
   "cell_type": "code",
   "execution_count": 24,
   "metadata": {},
   "outputs": [],
   "source": [
    "t9_by_zip = t9_by_zip.drop(['index_right'], axis=1)\n",
    "d9_by_zip = d9_by_zip.drop(['index_right'], axis=1)\n",
    "dt_by_zip = dt_by_zip.drop(['index_right'], axis=1)\n",
    "dd_by_zip = dd_by_zip.drop(['index_right'], axis=1)"
   ]
  },
  {
   "cell_type": "code",
   "execution_count": 25,
   "metadata": {},
   "outputs": [],
   "source": [
    "t9_by_zip['Counts'] = t9_by_zip.groupby(['zip'])['2017tot_appr'].transform('count')"
   ]
  },
  {
   "cell_type": "code",
   "execution_count": 26,
   "metadata": {},
   "outputs": [],
   "source": [
    "d9_by_zip['Counts'] = d9_by_zip.groupby(['zip'])['2017tot_appr'].transform('count')"
   ]
  },
  {
   "cell_type": "code",
   "execution_count": 27,
   "metadata": {},
   "outputs": [],
   "source": [
    "t9corr = t9_by_zip[[\"2017tot_appr\", \"Counts\"]]\n",
    "d9corr = d9_by_zip[[\"2017tot_appr\", \"Counts\"]]"
   ]
  },
  {
   "cell_type": "code",
   "execution_count": 28,
   "metadata": {},
   "outputs": [
    {
     "data": {
      "text/html": [
       "<div>\n",
       "<style scoped>\n",
       "    .dataframe tbody tr th:only-of-type {\n",
       "        vertical-align: middle;\n",
       "    }\n",
       "\n",
       "    .dataframe tbody tr th {\n",
       "        vertical-align: top;\n",
       "    }\n",
       "\n",
       "    .dataframe thead th {\n",
       "        text-align: right;\n",
       "    }\n",
       "</style>\n",
       "<table border=\"1\" class=\"dataframe\">\n",
       "  <thead>\n",
       "    <tr style=\"text-align: right;\">\n",
       "      <th></th>\n",
       "      <th>2017tot_appr</th>\n",
       "      <th>Counts</th>\n",
       "    </tr>\n",
       "  </thead>\n",
       "  <tbody>\n",
       "    <tr>\n",
       "      <th>2017tot_appr</th>\n",
       "      <td>1.000000</td>\n",
       "      <td>0.058843</td>\n",
       "    </tr>\n",
       "    <tr>\n",
       "      <th>Counts</th>\n",
       "      <td>0.058843</td>\n",
       "      <td>1.000000</td>\n",
       "    </tr>\n",
       "  </tbody>\n",
       "</table>\n",
       "</div>"
      ],
      "text/plain": [
       "              2017tot_appr    Counts\n",
       "2017tot_appr      1.000000  0.058843\n",
       "Counts            0.058843  1.000000"
      ]
     },
     "execution_count": 28,
     "metadata": {},
     "output_type": "execute_result"
    }
   ],
   "source": [
    "t9corr.corr()"
   ]
  },
  {
   "cell_type": "markdown",
   "metadata": {},
   "source": [
    "911 calls from the tornado event have negligible positive correlation with average property values by zip code, meaning that areas with higher property values slightly tended to generate more calls. The tornado impact was pretty localized, and even though this tornado took a similar path through Nashville as the last major tornado, the two zip codes most impacted don't seem to have had their property values impacted negatively."
   ]
  },
  {
   "cell_type": "code",
   "execution_count": 29,
   "metadata": {},
   "outputs": [
    {
     "data": {
      "text/html": [
       "<div>\n",
       "<style scoped>\n",
       "    .dataframe tbody tr th:only-of-type {\n",
       "        vertical-align: middle;\n",
       "    }\n",
       "\n",
       "    .dataframe tbody tr th {\n",
       "        vertical-align: top;\n",
       "    }\n",
       "\n",
       "    .dataframe thead th {\n",
       "        text-align: right;\n",
       "    }\n",
       "</style>\n",
       "<table border=\"1\" class=\"dataframe\">\n",
       "  <thead>\n",
       "    <tr style=\"text-align: right;\">\n",
       "      <th></th>\n",
       "      <th>2017tot_appr</th>\n",
       "      <th>Counts</th>\n",
       "    </tr>\n",
       "  </thead>\n",
       "  <tbody>\n",
       "    <tr>\n",
       "      <th>2017tot_appr</th>\n",
       "      <td>1.000000</td>\n",
       "      <td>-0.298255</td>\n",
       "    </tr>\n",
       "    <tr>\n",
       "      <th>Counts</th>\n",
       "      <td>-0.298255</td>\n",
       "      <td>1.000000</td>\n",
       "    </tr>\n",
       "  </tbody>\n",
       "</table>\n",
       "</div>"
      ],
      "text/plain": [
       "              2017tot_appr    Counts\n",
       "2017tot_appr      1.000000 -0.298255\n",
       "Counts           -0.298255  1.000000"
      ]
     },
     "execution_count": 29,
     "metadata": {},
     "output_type": "execute_result"
    }
   ],
   "source": [
    "d9corr.corr()"
   ]
  },
  {
   "cell_type": "markdown",
   "metadata": {},
   "source": [
    "911 calls from the derecho event have weak negative correlation with average property values by zip code, so areas with lower property values generated more calls. Since the derecho was more widespread, it placed stress on infrastructure and trees all around the county. It stands to reason that lower property value zip codes would potentially have older, less maintained infrastructure, and since the impact wasn't localized, the calls would seem to reflect that difference."
   ]
  },
  {
   "cell_type": "code",
   "execution_count": 30,
   "metadata": {},
   "outputs": [
    {
     "data": {
      "image/png": "[encoded data removed]",
      "text/plain": [
       "<Figure size 576x720 with 1 Axes>"
      ]
     },
     "metadata": {
      "needs_background": "light"
     },
     "output_type": "display_data"
    }
   ],
   "source": [
    "ax = zipcodes.plot(figsize = (8, 10), color = 'lightgreen')\n",
    "t9_geo.plot( ax = ax, column = 'CellTowerAddress');\n",
    "plt.show();"
   ]
  },
  {
   "cell_type": "code",
   "execution_count": 31,
   "metadata": {},
   "outputs": [],
   "source": [
    "t9_37206 = t9_by_zip.loc[t9_by_zip['zip'].isin(['37206'])]\n",
    "t9_37208 = t9_by_zip.loc[t9_by_zip['zip'].isin(['37208'])]\n",
    "t9_37076 = t9_by_zip.loc[t9_by_zip['zip'].isin(['37076'])]"
   ]
  },
  {
   "cell_type": "code",
   "execution_count": 32,
   "metadata": {},
   "outputs": [],
   "source": [
    "polygon37206 = zipcodes.loc[zipcodes['zip'] == '37206']\n",
    "polygon37208 = zipcodes.loc[zipcodes['zip'] == '37208']\n",
    "polygon37076 = zipcodes.loc[zipcodes['zip'] == '37076']"
   ]
  },
  {
   "cell_type": "code",
   "execution_count": 33,
   "metadata": {},
   "outputs": [
    {
     "data": {
      "text/html": [
       "<div>\n",
       "<style scoped>\n",
       "    .dataframe tbody tr th:only-of-type {\n",
       "        vertical-align: middle;\n",
       "    }\n",
       "\n",
       "    .dataframe tbody tr th {\n",
       "        vertical-align: top;\n",
       "    }\n",
       "\n",
       "    .dataframe thead th {\n",
       "        text-align: right;\n",
       "    }\n",
       "</style>\n",
       "<table border=\"1\" class=\"dataframe\">\n",
       "  <thead>\n",
       "    <tr style=\"text-align: right;\">\n",
       "      <th></th>\n",
       "      <th>DateTime</th>\n",
       "      <th>CallTypeId</th>\n",
       "      <th>Latitude</th>\n",
       "      <th>Longitude</th>\n",
       "      <th>CellTowerAddress</th>\n",
       "      <th>geometry</th>\n",
       "      <th>zip</th>\n",
       "      <th>po_name</th>\n",
       "      <th>2017tot_appr</th>\n",
       "      <th>Counts</th>\n",
       "    </tr>\n",
       "  </thead>\n",
       "  <tbody>\n",
       "    <tr>\n",
       "      <th>218</th>\n",
       "      <td>3/3/2020 0:44</td>\n",
       "      <td>911 Calls</td>\n",
       "      <td>36.185049</td>\n",
       "      <td>-86.748283</td>\n",
       "      <td>1051G CHICAMAUGA AVE - S</td>\n",
       "      <td>POINT (-86.74828 36.18505)</td>\n",
       "      <td>37206</td>\n",
       "      <td>NASHVILLE</td>\n",
       "      <td>306881.385714</td>\n",
       "      <td>90</td>\n",
       "    </tr>\n",
       "    <tr>\n",
       "      <th>219</th>\n",
       "      <td>3/3/2020 0:45</td>\n",
       "      <td>911 Calls</td>\n",
       "      <td>36.177376</td>\n",
       "      <td>-86.754013</td>\n",
       "      <td>10-C LUCILLE STREET - SE SECTOR</td>\n",
       "      <td>POINT (-86.75401 36.17738)</td>\n",
       "      <td>37206</td>\n",
       "      <td>NASHVILLE</td>\n",
       "      <td>306881.385714</td>\n",
       "      <td>90</td>\n",
       "    </tr>\n",
       "    <tr>\n",
       "      <th>220</th>\n",
       "      <td>3/3/2020 0:45</td>\n",
       "      <td>911 Calls</td>\n",
       "      <td>36.172968</td>\n",
       "      <td>-86.764719</td>\n",
       "      <td>411D FATHERLAND STRE - NE</td>\n",
       "      <td>POINT (-86.76472 36.17297)</td>\n",
       "      <td>37206</td>\n",
       "      <td>NASHVILLE</td>\n",
       "      <td>306881.385714</td>\n",
       "      <td>90</td>\n",
       "    </tr>\n",
       "    <tr>\n",
       "      <th>221</th>\n",
       "      <td>3/3/2020 0:51</td>\n",
       "      <td>911 Calls</td>\n",
       "      <td>36.172970</td>\n",
       "      <td>-86.764717</td>\n",
       "      <td>411D FATHERLAND STRE - NE</td>\n",
       "      <td>POINT (-86.76472 36.17297)</td>\n",
       "      <td>37206</td>\n",
       "      <td>NASHVILLE</td>\n",
       "      <td>306881.385714</td>\n",
       "      <td>90</td>\n",
       "    </tr>\n",
       "    <tr>\n",
       "      <th>222</th>\n",
       "      <td>3/3/2020 0:54</td>\n",
       "      <td>911 Calls</td>\n",
       "      <td>36.174404</td>\n",
       "      <td>-86.727081</td>\n",
       "      <td>254 RIVERSIDE DR - N</td>\n",
       "      <td>POINT (-86.72708 36.17440)</td>\n",
       "      <td>37206</td>\n",
       "      <td>NASHVILLE</td>\n",
       "      <td>306881.385714</td>\n",
       "      <td>90</td>\n",
       "    </tr>\n",
       "  </tbody>\n",
       "</table>\n",
       "</div>"
      ],
      "text/plain": [
       "          DateTime CallTypeId   Latitude  Longitude  \\\n",
       "218  3/3/2020 0:44  911 Calls  36.185049 -86.748283   \n",
       "219  3/3/2020 0:45  911 Calls  36.177376 -86.754013   \n",
       "220  3/3/2020 0:45  911 Calls  36.172968 -86.764719   \n",
       "221  3/3/2020 0:51  911 Calls  36.172970 -86.764717   \n",
       "222  3/3/2020 0:54  911 Calls  36.174404 -86.727081   \n",
       "\n",
       "                    CellTowerAddress                    geometry    zip  \\\n",
       "218         1051G CHICAMAUGA AVE - S  POINT (-86.74828 36.18505)  37206   \n",
       "219  10-C LUCILLE STREET - SE SECTOR  POINT (-86.75401 36.17738)  37206   \n",
       "220        411D FATHERLAND STRE - NE  POINT (-86.76472 36.17297)  37206   \n",
       "221        411D FATHERLAND STRE - NE  POINT (-86.76472 36.17297)  37206   \n",
       "222             254 RIVERSIDE DR - N  POINT (-86.72708 36.17440)  37206   \n",
       "\n",
       "       po_name   2017tot_appr  Counts  \n",
       "218  NASHVILLE  306881.385714      90  \n",
       "219  NASHVILLE  306881.385714      90  \n",
       "220  NASHVILLE  306881.385714      90  \n",
       "221  NASHVILLE  306881.385714      90  \n",
       "222  NASHVILLE  306881.385714      90  "
      ]
     },
     "execution_count": 33,
     "metadata": {},
     "output_type": "execute_result"
    }
   ],
   "source": [
    "t9_37206.head()"
   ]
  },
  {
   "cell_type": "code",
   "execution_count": 34,
   "metadata": {},
   "outputs": [
    {
     "data": {
      "image/png": "[encoded data removed]",
      "text/plain": [
       "<Figure size 576x720 with 1 Axes>"
      ]
     },
     "metadata": {
      "needs_background": "light"
     },
     "output_type": "display_data"
    }
   ],
   "source": [
    "ax = polygon37076.plot(figsize = (8, 10), color = 'lightgreen')\n",
    "t9_37076.plot( ax = ax, column = 'CellTowerAddress');\n",
    "plt.show();"
   ]
  },
  {
   "cell_type": "code",
   "execution_count": 35,
   "metadata": {},
   "outputs": [
    {
     "data": {
      "text/plain": [
       "(array([150., 125.,  86.,  60.,  54.]),\n",
       " array([  0. ,  37.6,  75.2, 112.8, 150.4, 188. ]),\n",
       " <BarContainer object of 5 artists>)"
      ]
     },
     "execution_count": 35,
     "metadata": {},
     "output_type": "execute_result"
    },
    {
     "data": {
      "image/png": "[encoded data removed]",
      "text/plain": [
       "<Figure size 432x288 with 1 Axes>"
      ]
     },
     "metadata": {
      "needs_background": "light"
     },
     "output_type": "display_data"
    }
   ],
   "source": [
    "plt.hist(tornado_911['DateTime'], bins=5)"
   ]
  },
  {
   "cell_type": "code",
   "execution_count": 36,
   "metadata": {},
   "outputs": [
    {
     "data": {
      "text/plain": [
       "(array([390., 473., 327., 192., 167.]),\n",
       " array([  0.,  83., 166., 249., 332., 415.]),\n",
       " <BarContainer object of 5 artists>)"
      ]
     },
     "execution_count": 36,
     "metadata": {},
     "output_type": "execute_result"
    },
    {
     "data": {
      "image/png": "[encoded data removed]",
      "text/plain": [
       "<Figure size 432x288 with 1 Axes>"
      ]
     },
     "metadata": {
      "needs_background": "light"
     },
     "output_type": "display_data"
    }
   ],
   "source": [
    "plt.hist(derecho_911['DateTime'], bins=5)"
   ]
  },
  {
   "cell_type": "code",
   "execution_count": 37,
   "metadata": {},
   "outputs": [
    {
     "name": "stderr",
     "output_type": "stream",
     "text": [
      "<ipython-input-37-2dee0cdaba00>:1: UserWarning: Geometry is in a geographic CRS. Results from 'centroid' are likely incorrect. Use 'GeoSeries.to_crs()' to re-project geometries to a projected CRS before this operation.\n",
      "\n",
      "  zipcodes.geometry.centroid\n"
     ]
    },
    {
     "data": {
      "text/plain": [
       "0     POINT (-86.69477 36.25433)\n",
       "1     POINT (-86.72635 36.21605)\n",
       "2     POINT (-86.77467 36.10566)\n",
       "3     POINT (-86.78551 36.04148)\n",
       "4     POINT (-87.02866 36.00026)\n",
       "5     POINT (-87.03712 36.08997)\n",
       "6     POINT (-86.86263 36.38001)\n",
       "7     POINT (-86.97531 36.06283)\n",
       "8     POINT (-86.76433 36.33621)\n",
       "9     POINT (-86.80157 36.13335)\n",
       "10    POINT (-86.63653 35.98113)\n",
       "11    POINT (-86.72226 36.00938)\n",
       "12    POINT (-86.91816 36.15605)\n",
       "13    POINT (-86.73098 36.18090)\n",
       "14    POINT (-86.69470 36.00387)\n",
       "15    POINT (-86.85733 36.37882)\n",
       "16    POINT (-86.72570 36.00942)\n",
       "17    POINT (-86.66093 36.10779)\n",
       "18    POINT (-86.82996 36.27880)\n",
       "19    POINT (-86.78726 36.28724)\n",
       "20    POINT (-86.89487 36.32034)\n",
       "21    POINT (-86.68513 35.99434)\n",
       "22    POINT (-86.64118 36.25192)\n",
       "23    POINT (-86.98674 36.15655)\n",
       "24    POINT (-86.78317 36.16682)\n",
       "25    POINT (-86.68331 35.99201)\n",
       "26    POINT (-86.76289 36.39920)\n",
       "27    POINT (-86.89039 36.20505)\n",
       "28    POINT (-86.52221 36.13926)\n",
       "29    POINT (-86.67866 35.98840)\n",
       "30    POINT (-86.80236 36.14071)\n",
       "31    POINT (-86.76851 36.16713)\n",
       "32    POINT (-86.87327 36.11084)\n",
       "33    POINT (-86.89242 36.27139)\n",
       "34    POINT (-86.99584 36.11958)\n",
       "35    POINT (-86.78899 36.14860)\n",
       "36    POINT (-86.77702 36.16557)\n",
       "37    POINT (-86.66271 36.16744)\n",
       "38    POINT (-86.94712 36.24580)\n",
       "39    POINT (-86.80250 36.14688)\n",
       "40    POINT (-86.80805 36.17736)\n",
       "41    POINT (-86.57718 36.18867)\n",
       "42    POINT (-86.77677 36.23245)\n",
       "43    POINT (-86.68156 35.99059)\n",
       "44    POINT (-86.83435 36.08232)\n",
       "45    POINT (-86.80400 36.19479)\n",
       "46    POINT (-86.58400 36.14525)\n",
       "47    POINT (-86.73347 36.14429)\n",
       "48    POINT (-87.03606 36.09576)\n",
       "49    POINT (-86.72308 36.06711)\n",
       "50    POINT (-86.60543 36.01826)\n",
       "51    POINT (-86.63636 36.04177)\n",
       "52    POINT (-86.73198 36.01007)\n",
       "53    POINT (-86.78161 36.06685)\n",
       "54    POINT (-86.56571 36.14415)\n",
       "55    POINT (-86.75978 36.39850)\n",
       "dtype: geometry"
      ]
     },
     "execution_count": 37,
     "metadata": {},
     "output_type": "execute_result"
    }
   ],
   "source": [
    "zipcodes.geometry.centroid"
   ]
  },
  {
   "cell_type": "code",
   "execution_count": 38,
   "metadata": {},
   "outputs": [
    {
     "name": "stderr",
     "output_type": "stream",
     "text": [
      "<ipython-input-38-223c566861c1>:1: UserWarning: Geometry is in a geographic CRS. Results from 'centroid' are likely incorrect. Use 'GeoSeries.to_crs()' to re-project geometries to a projected CRS before this operation.\n",
      "\n",
      "  center = zipcodes.geometry.centroid[24]\n"
     ]
    }
   ],
   "source": [
    "center = zipcodes.geometry.centroid[24]"
   ]
  },
  {
   "cell_type": "code",
   "execution_count": 39,
   "metadata": {},
   "outputs": [],
   "source": [
    "area_center = [center.y, center.x]"
   ]
  },
  {
   "cell_type": "code",
   "execution_count": 40,
   "metadata": {},
   "outputs": [
    {
     "data": {
      "text/html": [
       "<div style=\"width:100%;\"><div style=\"position:relative;width:100%;height:0;padding-bottom:60%;\"><span style=\"color:#565656\">Make this Notebook Trusted to load map: File -> Trust Notebook</span><iframe src=\"about:blank\" style=\"position:absolute;width:100%;height:100%;left:0;top:0;border:none !important;\" data-html=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 onload=\"this.contentDocument.open();this.contentDocument.write(atob(this.getAttribute('data-html')));this.contentDocument.close();\" allowfullscreen webkitallowfullscreen mozallowfullscreen></iframe></div></div>"
      ],
      "text/plain": [
       "<folium.folium.Map at 0x194658613a0>"
      ]
     },
     "execution_count": 40,
     "metadata": {},
     "output_type": "execute_result"
    }
   ],
   "source": [
    "map_nash = folium.Map(location =  area_center, zoom_start = 12)\n",
    "map_nash"
   ]
  },
  {
   "cell_type": "code",
   "execution_count": 41,
   "metadata": {},
   "outputs": [],
   "source": [
    "t9_geo_drop = t9_geo.dropna()"
   ]
  },
  {
   "cell_type": "code",
   "execution_count": 42,
   "metadata": {},
   "outputs": [
    {
     "data": {
      "text/html": [
       "<div style=\"width:100%;\"><div style=\"position:relative;width:100%;height:0;padding-bottom:60%;\"><span style=\"color:#565656\">Make this Notebook Trusted to load map: File -> Trust Notebook</span><iframe src=\"about:blank\" style=\"position:absolute;width:100%;height:100%;left:0;top:0;border:none !important;\" data-html=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 onload=\"this.contentDocument.open();this.contentDocument.write(atob(this.getAttribute('data-html')));this.contentDocument.close();\" allowfullscreen webkitallowfullscreen mozallowfullscreen></iframe></div></div>"
      ],
      "text/plain": [
       "<folium.folium.Map at 0x194658613a0>"
      ]
     },
     "execution_count": 42,
     "metadata": {},
     "output_type": "execute_result"
    }
   ],
   "source": [
    "locations = t9_geo_drop[['Latitude', 'Longitude']].values.tolist()\n",
    "map_nash.add_child(\n",
    "    FastMarkerCluster(locations)\n",
    ")"
   ]
  },
  {
   "cell_type": "code",
   "execution_count": 43,
   "metadata": {
    "scrolled": true
   },
   "outputs": [
    {
     "data": {
      "text/html": [
       "<div>\n",
       "<style scoped>\n",
       "    .dataframe tbody tr th:only-of-type {\n",
       "        vertical-align: middle;\n",
       "    }\n",
       "\n",
       "    .dataframe tbody tr th {\n",
       "        vertical-align: top;\n",
       "    }\n",
       "\n",
       "    .dataframe thead th {\n",
       "        text-align: right;\n",
       "    }\n",
       "</style>\n",
       "<table border=\"1\" class=\"dataframe\">\n",
       "  <thead>\n",
       "    <tr style=\"text-align: right;\">\n",
       "      <th></th>\n",
       "      <th>DateTime</th>\n",
       "      <th>CallTypeId</th>\n",
       "      <th>Latitude</th>\n",
       "      <th>Longitude</th>\n",
       "      <th>CellTowerAddress</th>\n",
       "      <th>geometry</th>\n",
       "    </tr>\n",
       "  </thead>\n",
       "  <tbody>\n",
       "    <tr>\n",
       "      <th>0</th>\n",
       "      <td>3/3/2020 0:34</td>\n",
       "      <td>911 Calls</td>\n",
       "      <td>36.072708</td>\n",
       "      <td>-86.665779</td>\n",
       "      <td>620 Richards RD - N Sector</td>\n",
       "      <td>POINT (-86.66578 36.07271)</td>\n",
       "    </tr>\n",
       "    <tr>\n",
       "      <th>1</th>\n",
       "      <td>3/3/2020 0:36</td>\n",
       "      <td>911 Calls</td>\n",
       "      <td>36.159634</td>\n",
       "      <td>-86.841904</td>\n",
       "      <td>4507D KENTUCKY AV - SE</td>\n",
       "      <td>POINT (-86.84190 36.15963)</td>\n",
       "    </tr>\n",
       "    <tr>\n",
       "      <th>2</th>\n",
       "      <td>3/3/2020 0:36</td>\n",
       "      <td>911 Calls</td>\n",
       "      <td>36.264153</td>\n",
       "      <td>-86.708862</td>\n",
       "      <td>329 THELMA ST - S Sector</td>\n",
       "      <td>POINT (-86.70886 36.26415)</td>\n",
       "    </tr>\n",
       "    <tr>\n",
       "      <th>3</th>\n",
       "      <td>3/3/2020 0:36</td>\n",
       "      <td>911 Calls</td>\n",
       "      <td>NaN</td>\n",
       "      <td>NaN</td>\n",
       "      <td>526 FOUNDRY DR</td>\n",
       "      <td>POINT (nan nan)</td>\n",
       "    </tr>\n",
       "    <tr>\n",
       "      <th>4</th>\n",
       "      <td>3/3/2020 0:36</td>\n",
       "      <td>911 Calls</td>\n",
       "      <td>36.233467</td>\n",
       "      <td>-86.721077</td>\n",
       "      <td>5007B RUSKIN AVE - N</td>\n",
       "      <td>POINT (-86.72108 36.23347)</td>\n",
       "    </tr>\n",
       "  </tbody>\n",
       "</table>\n",
       "</div>"
      ],
      "text/plain": [
       "        DateTime CallTypeId   Latitude  Longitude            CellTowerAddress  \\\n",
       "0  3/3/2020 0:34  911 Calls  36.072708 -86.665779  620 Richards RD - N Sector   \n",
       "1  3/3/2020 0:36  911 Calls  36.159634 -86.841904      4507D KENTUCKY AV - SE   \n",
       "2  3/3/2020 0:36  911 Calls  36.264153 -86.708862    329 THELMA ST - S Sector   \n",
       "3  3/3/2020 0:36  911 Calls        NaN        NaN              526 FOUNDRY DR   \n",
       "4  3/3/2020 0:36  911 Calls  36.233467 -86.721077        5007B RUSKIN AVE - N   \n",
       "\n",
       "                     geometry  \n",
       "0  POINT (-86.66578 36.07271)  \n",
       "1  POINT (-86.84190 36.15963)  \n",
       "2  POINT (-86.70886 36.26415)  \n",
       "3             POINT (nan nan)  \n",
       "4  POINT (-86.72108 36.23347)  "
      ]
     },
     "execution_count": 43,
     "metadata": {},
     "output_type": "execute_result"
    }
   ],
   "source": [
    "t9_geo.head()"
   ]
  },
  {
   "cell_type": "code",
   "execution_count": 44,
   "metadata": {
    "scrolled": true
   },
   "outputs": [
    {
     "data": {
      "text/html": [
       "<div style=\"width:100%;\"><div style=\"position:relative;width:100%;height:0;padding-bottom:60%;\"><span style=\"color:#565656\">Make this Notebook Trusted to load map: File -> Trust Notebook</span><iframe src=\"about:blank\" style=\"position:absolute;width:100%;height:100%;left:0;top:0;border:none !important;\" data-html=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 onload=\"this.contentDocument.open();this.contentDocument.write(atob(this.getAttribute('data-html')));this.contentDocument.close();\" allowfullscreen webkitallowfullscreen mozallowfullscreen></iframe></div></div>"
      ],
      "text/plain": [
       "<folium.folium.Map at 0x19465e0d370>"
      ]
     },
     "execution_count": 44,
     "metadata": {},
     "output_type": "execute_result"
    }
   ],
   "source": [
    "map_derecho = folium.Map(location =  area_center, zoom_start = 12)\n",
    "map_derecho"
   ]
  },
  {
   "cell_type": "code",
   "execution_count": 47,
   "metadata": {},
   "outputs": [
    {
     "data": {
      "text/html": [
       "<div style=\"width:100%;\"><div style=\"position:relative;width:100%;height:0;padding-bottom:60%;\"><span style=\"color:#565656\">Make this Notebook Trusted to load map: File -> Trust Notebook</span><iframe src=\"about:blank\" style=\"position:absolute;width:100%;height:100%;left:0;top:0;border:none !important;\" data-html=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 onload=\"this.contentDocument.open();this.contentDocument.write(atob(this.getAttribute('data-html')));this.contentDocument.close();\" allowfullscreen webkitallowfullscreen mozallowfullscreen></iframe></div></div>"
      ],
      "text/plain": [
       "<folium.folium.Map at 0x19465e0d370>"
      ]
     },
     "execution_count": 47,
     "metadata": {},
     "output_type": "execute_result"
    }
   ],
   "source": [
    "d9_geo_drop = d9_geo.dropna()\n",
    "locations2 = d9_geo_drop[['Latitude', 'Longitude']].values.tolist()\n",
    "map_derecho.add_child(\n",
    "    FastMarkerCluster(locations2)\n",
    ")"
   ]
  }
 ],
 "metadata": {
  "kernelspec": {
   "display_name": "Python 3",
   "language": "python",
   "name": "python3"
  },
  "language_info": {
   "codemirror_mode": {
    "name": "ipython",
    "version": 3
   },
   "file_extension": ".py",
   "mimetype": "text/x-python",
   "name": "python",
   "nbconvert_exporter": "python",
   "pygments_lexer": "ipython3",
   "version": "3.8.5"
  }
 },
 "nbformat": 4,
 "nbformat_minor": 2
}
