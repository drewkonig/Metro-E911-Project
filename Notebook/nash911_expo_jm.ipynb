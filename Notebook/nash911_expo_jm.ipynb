{
 "cells": [
  {
   "cell_type": "code",
   "execution_count": 18,
   "metadata": {},
   "outputs": [],
   "source": [
    "import pandas as pd\n",
    "import numpy as np\n",
    "import matplotlib.pyplot as plt\n",
    "import seaborn as sns\n",
    "import folium "
   ]
  },
  {
   "cell_type": "code",
   "execution_count": 9,
   "metadata": {},
   "outputs": [],
   "source": [
    "%matplotlib inline"
   ]
  },
  {
   "cell_type": "markdown",
   "metadata": {},
   "source": [
    "### sfamily_2017= pd.read_csv('../data/sfamily2017.csv')"
   ]
  },
  {
   "cell_type": "code",
   "execution_count": 11,
   "metadata": {},
   "outputs": [],
   "source": [
    "derecho_911=pd.read_csv('../data/Phone Calls_Derecho.csv')"
   ]
  },
  {
   "cell_type": "code",
   "execution_count": 12,
   "metadata": {},
   "outputs": [],
   "source": [
    "tornado_911=pd.read_csv('../data/Phone_Calls_Tornado.csv')"
   ]
  },
  {
   "cell_type": "code",
   "execution_count": 13,
   "metadata": {},
   "outputs": [],
   "source": [
    "disp_derecho=pd.read_csv('../data/Computer Aided Dispatch Data_Derecho Incidents.csv',skiprows=2)"
   ]
  },
  {
   "cell_type": "code",
   "execution_count": 15,
   "metadata": {},
   "outputs": [],
   "source": [
    "disp_tornado=pd.read_csv('../data/Computer Aided Dispatch Data_Tornado Incidents.csv',skiprows=3)"
   ]
  },
  {
   "cell_type": "code",
   "execution_count": 30,
   "metadata": {},
   "outputs": [
    {
     "data": {
      "text/html": [
       "<div>\n",
       "<style scoped>\n",
       "    .dataframe tbody tr th:only-of-type {\n",
       "        vertical-align: middle;\n",
       "    }\n",
       "\n",
       "    .dataframe tbody tr th {\n",
       "        vertical-align: top;\n",
       "    }\n",
       "\n",
       "    .dataframe thead th {\n",
       "        text-align: right;\n",
       "    }\n",
       "</style>\n",
       "<table border=\"1\" class=\"dataframe\">\n",
       "  <thead>\n",
       "    <tr style=\"text-align: right;\">\n",
       "      <th></th>\n",
       "      <th>IncidentDate</th>\n",
       "      <th>Location</th>\n",
       "      <th>Latitude1</th>\n",
       "      <th>Longitude1</th>\n",
       "      <th>IncidentTypeDescription1</th>\n",
       "    </tr>\n",
       "  </thead>\n",
       "  <tbody>\n",
       "    <tr>\n",
       "      <th>0</th>\n",
       "      <td>3/3/2020 12:36:34 AM</td>\n",
       "      <td>6205 COCKRILL BEND CIR</td>\n",
       "      <td>36.182002</td>\n",
       "      <td>-86.894052</td>\n",
       "      <td>GENERAL ALARM COMMERCIAL   INDUSTRIAL BUILD</td>\n",
       "    </tr>\n",
       "  </tbody>\n",
       "</table>\n",
       "</div>"
      ],
      "text/plain": [
       "           IncidentDate                 Location  Latitude1  Longitude1  \\\n",
       "0  3/3/2020 12:36:34 AM  6205 COCKRILL BEND CIR   36.182002  -86.894052   \n",
       "\n",
       "                      IncidentTypeDescription1  \n",
       "0  GENERAL ALARM COMMERCIAL   INDUSTRIAL BUILD  "
      ]
     },
     "execution_count": 30,
     "metadata": {},
     "output_type": "execute_result"
    }
   ],
   "source": [
    "disp_tornado.head(1)"
   ]
  },
  {
   "cell_type": "code",
   "execution_count": 32,
   "metadata": {},
   "outputs": [
    {
     "data": {
      "text/plain": [
       "GENERAL ALARM COMMERCIAL   INDUSTRIAL BUILD      27\n",
       "OUTSIDE ODOR                                     26\n",
       "WIRES DOWN WITH NO SMOKE OR ARCING               17\n",
       "SMALL BUILDING INVESTIGATION                     15\n",
       "ELECTRICAL HAZARD WITH OR NEAR WATER             12\n",
       "                                                 ..\n",
       "CONFINED SPACE ENTRAPMENT  CONFIRMED              1\n",
       "UNKNOWN COMMERCIAL  INDUSTRIAL ALARM              1\n",
       "APARTMENT NATURAL GAS ODOR                        1\n",
       "UNCONFIRMED ENTRAP SMALL BUILDING WITH HAZMAT     1\n",
       "APARTMENT FIRE                                    1\n",
       "Name: IncidentTypeDescription1, Length: 90, dtype: int64"
      ]
     },
     "execution_count": 32,
     "metadata": {},
     "output_type": "execute_result"
    }
   ],
   "source": [
    "disp_tornado['IncidentTypeDescription1'].value_counts()"
   ]
  },
  {
   "cell_type": "code",
   "execution_count": 33,
   "metadata": {},
   "outputs": [
    {
     "data": {
      "text/plain": [
       "ELECTRICAL HAZARD                                               370\n",
       "GENERAL ALARM COMMERCIAL   INDUSTRIAL BUILD                      23\n",
       "MVA INJURIES:                                                     8\n",
       "UNKNOWN STATUS:                                                   6\n",
       "CARBON MONOXIDE ALARM HOUSE                                       6\n",
       "                                                               ... \n",
       "WATER PROBLEM WITH ELECTRICAL HAZARD                              1\n",
       "CHEST PAIN - HEART ATTACK OR ANGINA HISTORY                       1\n",
       "HEART PROBLEMS CLAMMY OR COLD SWEATS                              1\n",
       "OUTSIDE NATURAL GAS ODOR RESIDENTIAL LINE   TANK LESS 5 GALL      1\n",
       "PINNED OR TRAPPED VICTIM:                                         1\n",
       "Name: IncidentTypeDescription1, Length: 122, dtype: int64"
      ]
     },
     "execution_count": 33,
     "metadata": {},
     "output_type": "execute_result"
    }
   ],
   "source": [
    "disp_derecho['IncidentTypeDescription1'].value_counts()"
   ]
  },
  {
   "cell_type": "code",
   "execution_count": 40,
   "metadata": {},
   "outputs": [
    {
     "data": {
      "text/plain": [
       "<bound method Series.count of 0            GENERAL ALARM COMMERCIAL   INDUSTRIAL BUILD\n",
       "1            GENERAL ALARM COMMERCIAL   INDUSTRIAL BUILD\n",
       "2                 STRUCTURE FIRE COMMERCIAL   INDUSTRIAL\n",
       "3            GENERAL ALARM COMMERCIAL   INDUSTRIAL BUILD\n",
       "4            GENERAL ALARM COMMERCIAL   INDUSTRIAL BUILD\n",
       "                             ...                        \n",
       "255    WIRES DOWN WITH NO SMOKE OR ARCING POWER DISCO...\n",
       "256                         LARGE BUILDING INVESTIGATION\n",
       "257                      CHEST PAIN - ABNORMAL BREATHING\n",
       "258               ABNORMAL BREATHING OTHER LUNG PROBLEMS\n",
       "259                                      UNKNOWN STATUS:\n",
       "Name: IncidentTypeDescription1, Length: 260, dtype: object>"
      ]
     },
     "execution_count": 40,
     "metadata": {},
     "output_type": "execute_result"
    }
   ],
   "source": [
    "disp_tornado['IncidentTypeDescription1'].count"
   ]
  },
  {
   "cell_type": "code",
   "execution_count": 56,
   "metadata": {},
   "outputs": [
    {
     "data": {
      "text/html": [
       "<div>\n",
       "<style scoped>\n",
       "    .dataframe tbody tr th:only-of-type {\n",
       "        vertical-align: middle;\n",
       "    }\n",
       "\n",
       "    .dataframe tbody tr th {\n",
       "        vertical-align: top;\n",
       "    }\n",
       "\n",
       "    .dataframe thead th {\n",
       "        text-align: right;\n",
       "    }\n",
       "</style>\n",
       "<table border=\"1\" class=\"dataframe\">\n",
       "  <thead>\n",
       "    <tr style=\"text-align: right;\">\n",
       "      <th></th>\n",
       "      <th>IncidentDate</th>\n",
       "      <th>Location</th>\n",
       "      <th>Latitude1</th>\n",
       "      <th>Longitude1</th>\n",
       "      <th>IncidentTypeDescription1</th>\n",
       "    </tr>\n",
       "  </thead>\n",
       "  <tbody>\n",
       "  </tbody>\n",
       "</table>\n",
       "</div>"
      ],
      "text/plain": [
       "Empty DataFrame\n",
       "Columns: [IncidentDate, Location, Latitude1, Longitude1, IncidentTypeDescription1]\n",
       "Index: []"
      ]
     },
     "execution_count": 56,
     "metadata": {},
     "output_type": "execute_result"
    }
   ],
   "source": [
    "disp_tornado[disp_tornado['IncidentTypeDescription1'].str.contains(\"%ENTRAPMENT_%\")]\n"
   ]
  },
  {
   "cell_type": "code",
   "execution_count": null,
   "metadata": {},
   "outputs": [],
   "source": []
  }
 ],
 "metadata": {
  "kernelspec": {
   "display_name": "Python 3",
   "language": "python",
   "name": "python3"
  },
  "language_info": {
   "codemirror_mode": {
    "name": "ipython",
    "version": 3
   },
   "file_extension": ".py",
   "mimetype": "text/x-python",
   "name": "python",
   "nbconvert_exporter": "python",
   "pygments_lexer": "ipython3",
   "version": "3.7.6"
  }
 },
 "nbformat": 4,
 "nbformat_minor": 4
}
